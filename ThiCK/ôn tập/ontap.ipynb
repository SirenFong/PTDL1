{
 "cells": [
  {
   "cell_type": "code",
   "execution_count": 268,
   "metadata": {},
   "outputs": [],
   "source": [
    "import numpy as np \n",
    "import pandas as pd\n",
    "import matplotlib.pyplot as plt\n",
    "import seaborn as sns\n",
    "from sklearn.linear_model import LogisticRegression\n",
    "from sklearn.metrics import confusion_matrix,classification_report"
   ]
  },
  {
   "cell_type": "code",
   "execution_count": 269,
   "metadata": {},
   "outputs": [
    {
     "data": {
      "text/html": [
       "<div>\n",
       "<style scoped>\n",
       "    .dataframe tbody tr th:only-of-type {\n",
       "        vertical-align: middle;\n",
       "    }\n",
       "\n",
       "    .dataframe tbody tr th {\n",
       "        vertical-align: top;\n",
       "    }\n",
       "\n",
       "    .dataframe thead th {\n",
       "        text-align: right;\n",
       "    }\n",
       "</style>\n",
       "<table border=\"1\" class=\"dataframe\">\n",
       "  <thead>\n",
       "    <tr style=\"text-align: right;\">\n",
       "      <th></th>\n",
       "      <th>MSSV</th>\n",
       "      <th>T1</th>\n",
       "      <th>T2</th>\n",
       "      <th>T3</th>\n",
       "      <th>T4</th>\n",
       "      <th>T5</th>\n",
       "      <th>T6</th>\n",
       "      <th>GT</th>\n",
       "      <th>DT</th>\n",
       "      <th>KV</th>\n",
       "      <th>NGONNGU</th>\n",
       "      <th>TOANLOGICPHANTICH</th>\n",
       "      <th>GIAIQUYETVANDE</th>\n",
       "      <th>KT</th>\n",
       "      <th>NGAYTHI</th>\n",
       "      <th>DINHHUONGNGHENGHIEP</th>\n",
       "    </tr>\n",
       "  </thead>\n",
       "  <tbody>\n",
       "    <tr>\n",
       "      <th>0</th>\n",
       "      <td>SV001</td>\n",
       "      <td>7.2</td>\n",
       "      <td>8.4</td>\n",
       "      <td>7.4</td>\n",
       "      <td>7.2</td>\n",
       "      <td>7.4</td>\n",
       "      <td>6.9</td>\n",
       "      <td>F</td>\n",
       "      <td>NaN</td>\n",
       "      <td>2NT</td>\n",
       "      <td>3.25</td>\n",
       "      <td>3.25</td>\n",
       "      <td>4.50</td>\n",
       "      <td>A1</td>\n",
       "      <td>12/7/2018</td>\n",
       "      <td>No</td>\n",
       "    </tr>\n",
       "    <tr>\n",
       "      <th>1</th>\n",
       "      <td>SV002</td>\n",
       "      <td>5.4</td>\n",
       "      <td>6.3</td>\n",
       "      <td>4.3</td>\n",
       "      <td>4.9</td>\n",
       "      <td>3.0</td>\n",
       "      <td>4.0</td>\n",
       "      <td>M</td>\n",
       "      <td>NaN</td>\n",
       "      <td>1</td>\n",
       "      <td>6.00</td>\n",
       "      <td>4.00</td>\n",
       "      <td>3.50</td>\n",
       "      <td>C</td>\n",
       "      <td>12/7/2018</td>\n",
       "      <td>Yes</td>\n",
       "    </tr>\n",
       "    <tr>\n",
       "      <th>2</th>\n",
       "      <td>SV003</td>\n",
       "      <td>5.6</td>\n",
       "      <td>5.0</td>\n",
       "      <td>2.8</td>\n",
       "      <td>6.1</td>\n",
       "      <td>4.8</td>\n",
       "      <td>5.7</td>\n",
       "      <td>M</td>\n",
       "      <td>NaN</td>\n",
       "      <td>1</td>\n",
       "      <td>5.00</td>\n",
       "      <td>6.75</td>\n",
       "      <td>4.00</td>\n",
       "      <td>C</td>\n",
       "      <td>12/7/2018</td>\n",
       "      <td>No</td>\n",
       "    </tr>\n",
       "    <tr>\n",
       "      <th>3</th>\n",
       "      <td>SV004</td>\n",
       "      <td>6.6</td>\n",
       "      <td>5.1</td>\n",
       "      <td>5.9</td>\n",
       "      <td>4.1</td>\n",
       "      <td>6.1</td>\n",
       "      <td>7.4</td>\n",
       "      <td>M</td>\n",
       "      <td>NaN</td>\n",
       "      <td>1</td>\n",
       "      <td>4.25</td>\n",
       "      <td>4.25</td>\n",
       "      <td>5.25</td>\n",
       "      <td>D1</td>\n",
       "      <td>12/7/2018</td>\n",
       "      <td>No</td>\n",
       "    </tr>\n",
       "    <tr>\n",
       "      <th>4</th>\n",
       "      <td>SV005</td>\n",
       "      <td>6.0</td>\n",
       "      <td>5.4</td>\n",
       "      <td>7.6</td>\n",
       "      <td>4.4</td>\n",
       "      <td>6.8</td>\n",
       "      <td>8.0</td>\n",
       "      <td>M</td>\n",
       "      <td>NaN</td>\n",
       "      <td>2NT</td>\n",
       "      <td>4.25</td>\n",
       "      <td>4.50</td>\n",
       "      <td>5.00</td>\n",
       "      <td>A</td>\n",
       "      <td>12/7/2018</td>\n",
       "      <td>No</td>\n",
       "    </tr>\n",
       "    <tr>\n",
       "      <th>...</th>\n",
       "      <td>...</td>\n",
       "      <td>...</td>\n",
       "      <td>...</td>\n",
       "      <td>...</td>\n",
       "      <td>...</td>\n",
       "      <td>...</td>\n",
       "      <td>...</td>\n",
       "      <td>...</td>\n",
       "      <td>...</td>\n",
       "      <td>...</td>\n",
       "      <td>...</td>\n",
       "      <td>...</td>\n",
       "      <td>...</td>\n",
       "      <td>...</td>\n",
       "      <td>...</td>\n",
       "      <td>...</td>\n",
       "    </tr>\n",
       "    <tr>\n",
       "      <th>95</th>\n",
       "      <td>SV0096</td>\n",
       "      <td>8.6</td>\n",
       "      <td>8.9</td>\n",
       "      <td>7.7</td>\n",
       "      <td>6.7</td>\n",
       "      <td>7.9</td>\n",
       "      <td>6.6</td>\n",
       "      <td>F</td>\n",
       "      <td>NaN</td>\n",
       "      <td>1</td>\n",
       "      <td>5.25</td>\n",
       "      <td>1.50</td>\n",
       "      <td>6.25</td>\n",
       "      <td>C</td>\n",
       "      <td>7/20/2022</td>\n",
       "      <td>Yes</td>\n",
       "    </tr>\n",
       "    <tr>\n",
       "      <th>96</th>\n",
       "      <td>SV0097</td>\n",
       "      <td>3.7</td>\n",
       "      <td>4.1</td>\n",
       "      <td>3.1</td>\n",
       "      <td>3.4</td>\n",
       "      <td>5.5</td>\n",
       "      <td>5.7</td>\n",
       "      <td>F</td>\n",
       "      <td>NaN</td>\n",
       "      <td>1</td>\n",
       "      <td>5.25</td>\n",
       "      <td>3.75</td>\n",
       "      <td>4.75</td>\n",
       "      <td>C</td>\n",
       "      <td>7/20/2022</td>\n",
       "      <td>No</td>\n",
       "    </tr>\n",
       "    <tr>\n",
       "      <th>97</th>\n",
       "      <td>SV0098</td>\n",
       "      <td>8.8</td>\n",
       "      <td>9.5</td>\n",
       "      <td>9.5</td>\n",
       "      <td>8.5</td>\n",
       "      <td>9.0</td>\n",
       "      <td>8.5</td>\n",
       "      <td>M</td>\n",
       "      <td>NaN</td>\n",
       "      <td>2NT</td>\n",
       "      <td>7.00</td>\n",
       "      <td>8.00</td>\n",
       "      <td>4.00</td>\n",
       "      <td>C</td>\n",
       "      <td>7/20/2022</td>\n",
       "      <td>Yes</td>\n",
       "    </tr>\n",
       "    <tr>\n",
       "      <th>98</th>\n",
       "      <td>SV0099</td>\n",
       "      <td>2.7</td>\n",
       "      <td>2.8</td>\n",
       "      <td>6.2</td>\n",
       "      <td>5.2</td>\n",
       "      <td>4.1</td>\n",
       "      <td>4.3</td>\n",
       "      <td>M</td>\n",
       "      <td>NaN</td>\n",
       "      <td>1</td>\n",
       "      <td>5.00</td>\n",
       "      <td>3.50</td>\n",
       "      <td>5.50</td>\n",
       "      <td>C</td>\n",
       "      <td>7/20/2022</td>\n",
       "      <td>No</td>\n",
       "    </tr>\n",
       "    <tr>\n",
       "      <th>99</th>\n",
       "      <td>SV00100</td>\n",
       "      <td>4.1</td>\n",
       "      <td>4.4</td>\n",
       "      <td>6.0</td>\n",
       "      <td>4.3</td>\n",
       "      <td>5.6</td>\n",
       "      <td>5.1</td>\n",
       "      <td>M</td>\n",
       "      <td>NaN</td>\n",
       "      <td>2NT</td>\n",
       "      <td>5.25</td>\n",
       "      <td>2.50</td>\n",
       "      <td>4.25</td>\n",
       "      <td>C</td>\n",
       "      <td>7/20/2022</td>\n",
       "      <td>Yes</td>\n",
       "    </tr>\n",
       "  </tbody>\n",
       "</table>\n",
       "<p>100 rows × 16 columns</p>\n",
       "</div>"
      ],
      "text/plain": [
       "       MSSV   T1   T2   T3   T4   T5   T6 GT  DT   KV  NGONNGU  \\\n",
       "0     SV001  7.2  8.4  7.4  7.2  7.4  6.9  F NaN  2NT     3.25   \n",
       "1     SV002  5.4  6.3  4.3  4.9  3.0  4.0  M NaN    1     6.00   \n",
       "2     SV003  5.6  5.0  2.8  6.1  4.8  5.7  M NaN    1     5.00   \n",
       "3     SV004  6.6  5.1  5.9  4.1  6.1  7.4  M NaN    1     4.25   \n",
       "4     SV005  6.0  5.4  7.6  4.4  6.8  8.0  M NaN  2NT     4.25   \n",
       "..      ...  ...  ...  ...  ...  ...  ... ..  ..  ...      ...   \n",
       "95   SV0096  8.6  8.9  7.7  6.7  7.9  6.6  F NaN    1     5.25   \n",
       "96   SV0097  3.7  4.1  3.1  3.4  5.5  5.7  F NaN    1     5.25   \n",
       "97   SV0098  8.8  9.5  9.5  8.5  9.0  8.5  M NaN  2NT     7.00   \n",
       "98   SV0099  2.7  2.8  6.2  5.2  4.1  4.3  M NaN    1     5.00   \n",
       "99  SV00100  4.1  4.4  6.0  4.3  5.6  5.1  M NaN  2NT     5.25   \n",
       "\n",
       "    TOANLOGICPHANTICH  GIAIQUYETVANDE  KT    NGAYTHI DINHHUONGNGHENGHIEP  \n",
       "0                3.25            4.50  A1  12/7/2018                  No  \n",
       "1                4.00            3.50   C  12/7/2018                 Yes  \n",
       "2                6.75            4.00   C  12/7/2018                  No  \n",
       "3                4.25            5.25  D1  12/7/2018                  No  \n",
       "4                4.50            5.00   A  12/7/2018                  No  \n",
       "..                ...             ...  ..        ...                 ...  \n",
       "95               1.50            6.25   C  7/20/2022                 Yes  \n",
       "96               3.75            4.75   C  7/20/2022                  No  \n",
       "97               8.00            4.00   C  7/20/2022                 Yes  \n",
       "98               3.50            5.50   C  7/20/2022                  No  \n",
       "99               2.50            4.25   C  7/20/2022                 Yes  \n",
       "\n",
       "[100 rows x 16 columns]"
      ]
     },
     "execution_count": 269,
     "metadata": {},
     "output_type": "execute_result"
    }
   ],
   "source": [
    "df = pd.read_csv('dulieuxettuyendaihoc.csv' , header=0,delimiter=\",\" ,encoding=\"Utf=8\")\n",
    "df"
   ]
  },
  {
   "cell_type": "code",
   "execution_count": 270,
   "metadata": {},
   "outputs": [],
   "source": [
    "data = df[['T1','T2','T3','T4','T5','T6','TOANLOGICPHANTICH','GT']]"
   ]
  },
  {
   "cell_type": "code",
   "execution_count": 271,
   "metadata": {},
   "outputs": [
    {
     "name": "stderr",
     "output_type": "stream",
     "text": [
      "C:\\Users\\nhatt\\AppData\\Local\\Temp\\ipykernel_13900\\3373958501.py:1: SettingWithCopyWarning: \n",
      "A value is trying to be set on a copy of a slice from a DataFrame\n",
      "\n",
      "See the caveats in the documentation: https://pandas.pydata.org/pandas-docs/stable/user_guide/indexing.html#returning-a-view-versus-a-copy\n",
      "  data.rename(columns={'TOANLOGICPHANTICH':'LOGIC'}, inplace=True)\n"
     ]
    }
   ],
   "source": [
    "data.rename(columns={'TOANLOGICPHANTICH':'LOGIC'}, inplace=True)"
   ]
  },
  {
   "cell_type": "code",
   "execution_count": 272,
   "metadata": {},
   "outputs": [
    {
     "name": "stdout",
     "output_type": "stream",
     "text": [
      "(100, 8)\n"
     ]
    }
   ],
   "source": [
    "print(data.shape)"
   ]
  },
  {
   "cell_type": "code",
   "execution_count": 273,
   "metadata": {},
   "outputs": [
    {
     "name": "stdout",
     "output_type": "stream",
     "text": [
      "T1       0\n",
      "T2       0\n",
      "T3       0\n",
      "T4       0\n",
      "T5       0\n",
      "T6       0\n",
      "LOGIC    0\n",
      "GT       0\n",
      "dtype: int64\n"
     ]
    }
   ],
   "source": [
    "print(data.isnull().sum())"
   ]
  },
  {
   "cell_type": "code",
   "execution_count": 274,
   "metadata": {},
   "outputs": [
    {
     "name": "stdout",
     "output_type": "stream",
     "text": [
      "               T1          T2          T3          T4          T5        T6  \\\n",
      "count  100.000000  100.000000  100.000000  100.000000  100.000000  100.0000   \n",
      "mean     5.946000    6.374000    6.383000    6.291000    6.717000    6.9370   \n",
      "std      1.608338    1.561443    1.574484    1.469563    1.478059    1.3632   \n",
      "min      2.400000    2.800000    2.300000    2.900000    3.000000    3.7000   \n",
      "25%      5.000000    5.300000    5.175000    5.300000    5.800000    6.0000   \n",
      "50%      5.850000    6.250000    6.650000    6.350000    6.800000    7.1000   \n",
      "75%      7.200000    7.525000    7.500000    7.600000    7.800000    8.0000   \n",
      "max      9.300000    9.600000    9.500000    9.400000    9.500000    9.5000   \n",
      "\n",
      "            LOGIC  \n",
      "count  100.000000  \n",
      "mean     4.255000  \n",
      "std      1.060053  \n",
      "min      1.500000  \n",
      "25%      3.500000  \n",
      "50%      4.125000  \n",
      "75%      4.750000  \n",
      "max      8.000000  \n"
     ]
    }
   ],
   "source": [
    "print(data.describe())\n"
   ]
  },
  {
   "cell_type": "code",
   "execution_count": 275,
   "metadata": {},
   "outputs": [
    {
     "name": "stdout",
     "output_type": "stream",
     "text": [
      "    T1   T2   T3   T4   T5   T6  LOGIC  GT_Nam  GT_Nu\n",
      "0  7.2  8.4  7.4  7.2  7.4  6.9   3.25       0      1\n",
      "1  5.4  6.3  4.3  4.9  3.0  4.0   4.00       1      0\n",
      "2  5.6  5.0  2.8  6.1  4.8  5.7   6.75       1      0\n",
      "3  6.6  5.1  5.9  4.1  6.1  7.4   4.25       1      0\n",
      "4  6.0  5.4  7.6  4.4  6.8  8.0   4.50       1      0\n"
     ]
    },
    {
     "name": "stderr",
     "output_type": "stream",
     "text": [
      "C:\\Users\\nhatt\\AppData\\Local\\Temp\\ipykernel_13900\\2422052149.py:1: SettingWithCopyWarning: \n",
      "A value is trying to be set on a copy of a slice from a DataFrame.\n",
      "Try using .loc[row_indexer,col_indexer] = value instead\n",
      "\n",
      "See the caveats in the documentation: https://pandas.pydata.org/pandas-docs/stable/user_guide/indexing.html#returning-a-view-versus-a-copy\n",
      "  data['GT_Nam'] = (data['GT'] == 'M').astype(int)\n",
      "C:\\Users\\nhatt\\AppData\\Local\\Temp\\ipykernel_13900\\2422052149.py:4: SettingWithCopyWarning: \n",
      "A value is trying to be set on a copy of a slice from a DataFrame.\n",
      "Try using .loc[row_indexer,col_indexer] = value instead\n",
      "\n",
      "See the caveats in the documentation: https://pandas.pydata.org/pandas-docs/stable/user_guide/indexing.html#returning-a-view-versus-a-copy\n",
      "  data['GT_Nu'] = (data['GT'] == 'F').astype(int)\n"
     ]
    }
   ],
   "source": [
    "data['GT_Nam'] = (data['GT'] == 'M').astype(int)\n",
    "\n",
    "# Tạo cột mới cho giới tính nữ \n",
    "data['GT_Nu'] = (data['GT'] == 'F').astype(int)\n",
    "\n",
    "# Xóa cột GT cũ\n",
    "data = data.drop(columns=['GT'])\n",
    "\n",
    "print(data.head())"
   ]
  },
  {
   "cell_type": "code",
   "execution_count": 276,
   "metadata": {},
   "outputs": [],
   "source": [
    "X=data[['T1','T2','T3','T4','T5','T6','GT_Nam','GT_Nu']].values\n",
    "y=data[['LOGIC']].values"
   ]
  },
  {
   "cell_type": "code",
   "execution_count": 277,
   "metadata": {},
   "outputs": [
    {
     "name": "stdout",
     "output_type": "stream",
     "text": [
      "(80, 8)\n",
      "(20, 8)\n",
      "(80, 1)\n",
      "(20, 1)\n"
     ]
    }
   ],
   "source": [
    "from sklearn.model_selection import train_test_split \n",
    "X_train, X_test, y_train, y_test = train_test_split(X, y, test_size=0.2, random_state=16)\n",
    "\n",
    "print(X_train.shape)\n",
    "print(X_test.shape)\n",
    "print(y_train.shape)\n",
    "print(y_test.shape)"
   ]
  },
  {
   "cell_type": "code",
   "execution_count": 278,
   "metadata": {},
   "outputs": [
    {
     "data": {
      "text/plain": [
       "array([[3.7, 4.1, 3.1, 3.4, 5.5, 5.7, 0. , 1. ],\n",
       "       [9.3, 9.6, 7.1, 8.5, 8.5, 7.8, 1. , 0. ],\n",
       "       [8.1, 8.8, 9.2, 8.8, 8.9, 8.5, 1. , 0. ],\n",
       "       [4.9, 6.1, 2.5, 6.2, 4.9, 6.5, 1. , 0. ],\n",
       "       [4.6, 7.2, 7.6, 6.2, 8. , 7.2, 1. , 0. ],\n",
       "       [5.7, 3.9, 5.7, 4.6, 6.8, 7.3, 1. , 0. ],\n",
       "       [4.3, 5.3, 7.3, 7.7, 7.4, 7.1, 1. , 0. ],\n",
       "       [7.9, 8.2, 8.1, 6.9, 8. , 8.1, 1. , 0. ],\n",
       "       [5.2, 6.3, 7.8, 7.6, 6.2, 7.3, 0. , 1. ],\n",
       "       [6.3, 6.3, 5.2, 6.1, 6. , 5.7, 1. , 0. ],\n",
       "       [6.9, 5.4, 5.3, 5.3, 7.2, 7.1, 0. , 1. ],\n",
       "       [6.5, 5.3, 6.1, 5.7, 7.1, 6.9, 1. , 0. ],\n",
       "       [4.4, 4.4, 5.1, 5.6, 5.8, 5.8, 1. , 0. ],\n",
       "       [5.6, 5. , 2.8, 6.1, 4.8, 5.7, 1. , 0. ],\n",
       "       [5.8, 6.4, 7.3, 7.1, 7.3, 6.7, 1. , 0. ],\n",
       "       [8.2, 6.4, 6.1, 5.8, 7.1, 8.9, 0. , 1. ],\n",
       "       [7.3, 7.5, 8. , 7.7, 7.8, 8.1, 1. , 0. ],\n",
       "       [7.3, 5.9, 7.1, 7.7, 7.9, 6.6, 1. , 0. ],\n",
       "       [8.1, 4.4, 5. , 2.9, 5.8, 5.6, 0. , 1. ],\n",
       "       [5. , 5.5, 2.3, 4.1, 3.4, 4.1, 0. , 1. ],\n",
       "       [6. , 7.3, 7.4, 8.1, 7.7, 6.5, 0. , 1. ],\n",
       "       [8.2, 8.5, 6.7, 6.8, 7.5, 7.6, 0. , 1. ],\n",
       "       [5.3, 6.4, 6.1, 5. , 5.3, 6.1, 1. , 0. ],\n",
       "       [4.8, 5.1, 5.7, 5. , 6.7, 6.6, 0. , 1. ],\n",
       "       [7.9, 8.4, 8.5, 8.4, 9.5, 9.5, 0. , 1. ],\n",
       "       [6.6, 5.1, 5.9, 4.1, 6.1, 7.4, 1. , 0. ],\n",
       "       [5.2, 5.5, 4.7, 4.3, 4.7, 5.7, 0. , 1. ],\n",
       "       [7.3, 5.8, 8.5, 7.6, 9.3, 8.3, 0. , 1. ],\n",
       "       [5.5, 6. , 2.9, 4.2, 5.5, 4. , 1. , 0. ],\n",
       "       [2.8, 4.4, 4.6, 4.7, 5.4, 5.3, 0. , 1. ],\n",
       "       [7.1, 6.9, 8.1, 7.2, 6.9, 7.4, 1. , 0. ],\n",
       "       [6.7, 6.6, 7.6, 7.4, 6.1, 6.5, 0. , 1. ],\n",
       "       [6.3, 7. , 5.5, 6.3, 8.5, 8.7, 0. , 1. ],\n",
       "       [5.2, 6.8, 6.7, 6.6, 7.3, 7.3, 1. , 0. ],\n",
       "       [6.6, 6.3, 6.7, 6. , 5.8, 6. , 0. , 1. ],\n",
       "       [2.4, 3.3, 3.9, 3.3, 4.4, 3.8, 0. , 1. ],\n",
       "       [5.4, 6.3, 4.3, 4.9, 3. , 4. , 1. , 0. ],\n",
       "       [7.2, 8.4, 7.3, 6.5, 7.9, 8.9, 0. , 1. ],\n",
       "       [5.1, 5.3, 4.7, 5.6, 6.2, 5.9, 1. , 0. ],\n",
       "       [7.2, 7.3, 7.5, 7.6, 7.8, 6.4, 0. , 1. ],\n",
       "       [3.9, 5.6, 6.3, 6.9, 9.3, 8.4, 1. , 0. ],\n",
       "       [5.7, 5.6, 4.7, 5.1, 5.6, 7.2, 1. , 0. ],\n",
       "       [5. , 5.8, 6. , 6.6, 6.8, 5.5, 0. , 1. ],\n",
       "       [5.1, 5. , 7.4, 6. , 6.8, 7.3, 0. , 1. ],\n",
       "       [5.8, 7.6, 6.6, 5.3, 6.5, 8.2, 0. , 1. ],\n",
       "       [5. , 6.8, 7.2, 6.1, 8. , 7.5, 1. , 0. ],\n",
       "       [6.1, 8.8, 8.4, 6.6, 7.8, 7.8, 0. , 1. ],\n",
       "       [7.2, 7.9, 7.3, 8.4, 7.8, 6.9, 0. , 1. ],\n",
       "       [2.5, 6.2, 6.5, 7.3, 3.4, 5.3, 1. , 0. ],\n",
       "       [5.9, 7.4, 5.5, 7. , 5.5, 8.2, 0. , 1. ],\n",
       "       [5.3, 5.1, 6.4, 5.6, 6.5, 6.5, 0. , 1. ],\n",
       "       [5.4, 6. , 6.9, 6.9, 6.7, 7.5, 0. , 1. ],\n",
       "       [7.1, 8.3, 8.6, 8.3, 8.6, 8.5, 0. , 1. ],\n",
       "       [5.3, 8. , 6.8, 6.6, 7.4, 5.9, 0. , 1. ],\n",
       "       [5.3, 7.5, 7.8, 8.5, 6.8, 7.5, 0. , 1. ],\n",
       "       [5.4, 4.8, 5.5, 5.5, 7.5, 7.3, 1. , 0. ],\n",
       "       [3.4, 4.4, 5.8, 3. , 3.2, 3.7, 1. , 0. ],\n",
       "       [6.5, 7.3, 6.4, 8.1, 7.7, 7.7, 0. , 1. ],\n",
       "       [3.6, 3.5, 4.2, 3.2, 4.4, 4.9, 1. , 0. ],\n",
       "       [8.2, 9.2, 9.3, 8.1, 8.7, 9.3, 0. , 1. ],\n",
       "       [6.3, 8.1, 5.7, 7.3, 8.3, 8.4, 1. , 0. ],\n",
       "       [7.2, 8.4, 7.4, 7.2, 7.4, 6.9, 0. , 1. ],\n",
       "       [5.2, 6.8, 6.5, 5.8, 6.4, 7.8, 1. , 0. ],\n",
       "       [5.3, 5.2, 5. , 3.5, 5.2, 5.2, 1. , 0. ],\n",
       "       [4.7, 6.2, 4.3, 5.3, 6.4, 7. , 1. , 0. ],\n",
       "       [4.2, 5.5, 5.1, 6.4, 8. , 8.5, 0. , 1. ],\n",
       "       [8.6, 8.9, 7.7, 6.7, 7.9, 6.6, 0. , 1. ],\n",
       "       [8.8, 9.5, 9.5, 8.5, 9. , 8.5, 1. , 0. ],\n",
       "       [6. , 6. , 6.8, 5.4, 6.7, 6.7, 0. , 1. ],\n",
       "       [5.6, 5.5, 4.8, 6.1, 6.6, 8.5, 1. , 0. ],\n",
       "       [6.5, 8.3, 8.3, 7.1, 5.8, 7.9, 1. , 0. ],\n",
       "       [7.6, 7.7, 7.5, 5.5, 6.5, 6.5, 0. , 1. ],\n",
       "       [8.8, 7.3, 7.5, 7.7, 7.4, 7.5, 0. , 1. ],\n",
       "       [4.1, 4.4, 6. , 4.3, 5.6, 5.1, 1. , 0. ],\n",
       "       [6. , 5.4, 7.6, 4.4, 6.8, 8. , 1. , 0. ],\n",
       "       [2.6, 3.8, 5.9, 6.8, 6.3, 8. , 1. , 0. ],\n",
       "       [7.3, 8.1, 8.2, 7.9, 8.4, 8.1, 1. , 0. ],\n",
       "       [3. , 3.5, 3.8, 5.5, 5. , 5.1, 1. , 0. ],\n",
       "       [6. , 6.2, 5.1, 5.1, 3.5, 5.6, 1. , 0. ],\n",
       "       [8.3, 8.2, 7.8, 7.7, 8.8, 8.5, 0. , 1. ]])"
      ]
     },
     "execution_count": 278,
     "metadata": {},
     "output_type": "execute_result"
    }
   ],
   "source": [
    "X_train\n"
   ]
  },
  {
   "cell_type": "code",
   "execution_count": 279,
   "metadata": {},
   "outputs": [
    {
     "name": "stdout",
     "output_type": "stream",
     "text": [
      "[[3.7 4.1 3.1 3.4 5.5 5.7 0.  1. ]\n",
      " [9.3 9.6 7.1 8.5 8.5 7.8 1.  0. ]\n",
      " [8.1 8.8 9.2 8.8 8.9 8.5 1.  0. ]\n",
      " [4.9 6.1 2.5 6.2 4.9 6.5 1.  0. ]\n",
      " [4.6 7.2 7.6 6.2 8.  7.2 1.  0. ]\n",
      " [5.7 3.9 5.7 4.6 6.8 7.3 1.  0. ]\n",
      " [4.3 5.3 7.3 7.7 7.4 7.1 1.  0. ]\n",
      " [7.9 8.2 8.1 6.9 8.  8.1 1.  0. ]\n",
      " [5.2 6.3 7.8 7.6 6.2 7.3 0.  1. ]\n",
      " [6.3 6.3 5.2 6.1 6.  5.7 1.  0. ]\n",
      " [6.9 5.4 5.3 5.3 7.2 7.1 0.  1. ]\n",
      " [6.5 5.3 6.1 5.7 7.1 6.9 1.  0. ]\n",
      " [4.4 4.4 5.1 5.6 5.8 5.8 1.  0. ]\n",
      " [5.6 5.  2.8 6.1 4.8 5.7 1.  0. ]\n",
      " [5.8 6.4 7.3 7.1 7.3 6.7 1.  0. ]\n",
      " [8.2 6.4 6.1 5.8 7.1 8.9 0.  1. ]\n",
      " [7.3 7.5 8.  7.7 7.8 8.1 1.  0. ]\n",
      " [7.3 5.9 7.1 7.7 7.9 6.6 1.  0. ]\n",
      " [8.1 4.4 5.  2.9 5.8 5.6 0.  1. ]\n",
      " [5.  5.5 2.3 4.1 3.4 4.1 0.  1. ]\n",
      " [6.  7.3 7.4 8.1 7.7 6.5 0.  1. ]\n",
      " [8.2 8.5 6.7 6.8 7.5 7.6 0.  1. ]\n",
      " [5.3 6.4 6.1 5.  5.3 6.1 1.  0. ]\n",
      " [4.8 5.1 5.7 5.  6.7 6.6 0.  1. ]\n",
      " [7.9 8.4 8.5 8.4 9.5 9.5 0.  1. ]\n",
      " [6.6 5.1 5.9 4.1 6.1 7.4 1.  0. ]\n",
      " [5.2 5.5 4.7 4.3 4.7 5.7 0.  1. ]\n",
      " [7.3 5.8 8.5 7.6 9.3 8.3 0.  1. ]\n",
      " [5.5 6.  2.9 4.2 5.5 4.  1.  0. ]\n",
      " [2.8 4.4 4.6 4.7 5.4 5.3 0.  1. ]\n",
      " [7.1 6.9 8.1 7.2 6.9 7.4 1.  0. ]\n",
      " [6.7 6.6 7.6 7.4 6.1 6.5 0.  1. ]\n",
      " [6.3 7.  5.5 6.3 8.5 8.7 0.  1. ]\n",
      " [5.2 6.8 6.7 6.6 7.3 7.3 1.  0. ]\n",
      " [6.6 6.3 6.7 6.  5.8 6.  0.  1. ]\n",
      " [2.4 3.3 3.9 3.3 4.4 3.8 0.  1. ]\n",
      " [5.4 6.3 4.3 4.9 3.  4.  1.  0. ]\n",
      " [7.2 8.4 7.3 6.5 7.9 8.9 0.  1. ]\n",
      " [5.1 5.3 4.7 5.6 6.2 5.9 1.  0. ]\n",
      " [7.2 7.3 7.5 7.6 7.8 6.4 0.  1. ]\n",
      " [3.9 5.6 6.3 6.9 9.3 8.4 1.  0. ]\n",
      " [5.7 5.6 4.7 5.1 5.6 7.2 1.  0. ]\n",
      " [5.  5.8 6.  6.6 6.8 5.5 0.  1. ]\n",
      " [5.1 5.  7.4 6.  6.8 7.3 0.  1. ]\n",
      " [5.8 7.6 6.6 5.3 6.5 8.2 0.  1. ]\n",
      " [5.  6.8 7.2 6.1 8.  7.5 1.  0. ]\n",
      " [6.1 8.8 8.4 6.6 7.8 7.8 0.  1. ]\n",
      " [7.2 7.9 7.3 8.4 7.8 6.9 0.  1. ]\n",
      " [2.5 6.2 6.5 7.3 3.4 5.3 1.  0. ]\n",
      " [5.9 7.4 5.5 7.  5.5 8.2 0.  1. ]\n",
      " [5.3 5.1 6.4 5.6 6.5 6.5 0.  1. ]\n",
      " [5.4 6.  6.9 6.9 6.7 7.5 0.  1. ]\n",
      " [7.1 8.3 8.6 8.3 8.6 8.5 0.  1. ]\n",
      " [5.3 8.  6.8 6.6 7.4 5.9 0.  1. ]\n",
      " [5.3 7.5 7.8 8.5 6.8 7.5 0.  1. ]\n",
      " [5.4 4.8 5.5 5.5 7.5 7.3 1.  0. ]\n",
      " [3.4 4.4 5.8 3.  3.2 3.7 1.  0. ]\n",
      " [6.5 7.3 6.4 8.1 7.7 7.7 0.  1. ]\n",
      " [3.6 3.5 4.2 3.2 4.4 4.9 1.  0. ]\n",
      " [8.2 9.2 9.3 8.1 8.7 9.3 0.  1. ]\n",
      " [6.3 8.1 5.7 7.3 8.3 8.4 1.  0. ]\n",
      " [7.2 8.4 7.4 7.2 7.4 6.9 0.  1. ]\n",
      " [5.2 6.8 6.5 5.8 6.4 7.8 1.  0. ]\n",
      " [5.3 5.2 5.  3.5 5.2 5.2 1.  0. ]\n",
      " [4.7 6.2 4.3 5.3 6.4 7.  1.  0. ]\n",
      " [4.2 5.5 5.1 6.4 8.  8.5 0.  1. ]\n",
      " [8.6 8.9 7.7 6.7 7.9 6.6 0.  1. ]\n",
      " [8.8 9.5 9.5 8.5 9.  8.5 1.  0. ]\n",
      " [6.  6.  6.8 5.4 6.7 6.7 0.  1. ]\n",
      " [5.6 5.5 4.8 6.1 6.6 8.5 1.  0. ]\n",
      " [6.5 8.3 8.3 7.1 5.8 7.9 1.  0. ]\n",
      " [7.6 7.7 7.5 5.5 6.5 6.5 0.  1. ]\n",
      " [8.8 7.3 7.5 7.7 7.4 7.5 0.  1. ]\n",
      " [4.1 4.4 6.  4.3 5.6 5.1 1.  0. ]\n",
      " [6.  5.4 7.6 4.4 6.8 8.  1.  0. ]\n",
      " [2.6 3.8 5.9 6.8 6.3 8.  1.  0. ]\n",
      " [7.3 8.1 8.2 7.9 8.4 8.1 1.  0. ]\n",
      " [3.  3.5 3.8 5.5 5.  5.1 1.  0. ]\n",
      " [6.  6.2 5.1 5.1 3.5 5.6 1.  0. ]\n",
      " [8.3 8.2 7.8 7.7 8.8 8.5 0.  1. ]]\n"
     ]
    }
   ],
   "source": [
    "print(X_train)"
   ]
  },
  {
   "cell_type": "code",
   "execution_count": null,
   "metadata": {},
   "outputs": [],
   "source": []
  },
  {
   "cell_type": "code",
   "execution_count": 280,
   "metadata": {},
   "outputs": [],
   "source": [
    "# X_train_df = pd.DataFrame(X_train)\n",
    "# df_test = X_train_df.transform(lambda x : x**2)\n",
    "# X_train=df_test\n"
   ]
  },
  {
   "cell_type": "code",
   "execution_count": 281,
   "metadata": {},
   "outputs": [
    {
     "name": "stdout",
     "output_type": "stream",
     "text": [
      "[[3.7 4.1 3.1 3.4 5.5 5.7 0.  1. ]\n",
      " [9.3 9.6 7.1 8.5 8.5 7.8 1.  0. ]\n",
      " [8.1 8.8 9.2 8.8 8.9 8.5 1.  0. ]\n",
      " [4.9 6.1 2.5 6.2 4.9 6.5 1.  0. ]\n",
      " [4.6 7.2 7.6 6.2 8.  7.2 1.  0. ]\n",
      " [5.7 3.9 5.7 4.6 6.8 7.3 1.  0. ]\n",
      " [4.3 5.3 7.3 7.7 7.4 7.1 1.  0. ]\n",
      " [7.9 8.2 8.1 6.9 8.  8.1 1.  0. ]\n",
      " [5.2 6.3 7.8 7.6 6.2 7.3 0.  1. ]\n",
      " [6.3 6.3 5.2 6.1 6.  5.7 1.  0. ]\n",
      " [6.9 5.4 5.3 5.3 7.2 7.1 0.  1. ]\n",
      " [6.5 5.3 6.1 5.7 7.1 6.9 1.  0. ]\n",
      " [4.4 4.4 5.1 5.6 5.8 5.8 1.  0. ]\n",
      " [5.6 5.  2.8 6.1 4.8 5.7 1.  0. ]\n",
      " [5.8 6.4 7.3 7.1 7.3 6.7 1.  0. ]\n",
      " [8.2 6.4 6.1 5.8 7.1 8.9 0.  1. ]\n",
      " [7.3 7.5 8.  7.7 7.8 8.1 1.  0. ]\n",
      " [7.3 5.9 7.1 7.7 7.9 6.6 1.  0. ]\n",
      " [8.1 4.4 5.  2.9 5.8 5.6 0.  1. ]\n",
      " [5.  5.5 2.3 4.1 3.4 4.1 0.  1. ]\n",
      " [6.  7.3 7.4 8.1 7.7 6.5 0.  1. ]\n",
      " [8.2 8.5 6.7 6.8 7.5 7.6 0.  1. ]\n",
      " [5.3 6.4 6.1 5.  5.3 6.1 1.  0. ]\n",
      " [4.8 5.1 5.7 5.  6.7 6.6 0.  1. ]\n",
      " [7.9 8.4 8.5 8.4 9.5 9.5 0.  1. ]\n",
      " [6.6 5.1 5.9 4.1 6.1 7.4 1.  0. ]\n",
      " [5.2 5.5 4.7 4.3 4.7 5.7 0.  1. ]\n",
      " [7.3 5.8 8.5 7.6 9.3 8.3 0.  1. ]\n",
      " [5.5 6.  2.9 4.2 5.5 4.  1.  0. ]\n",
      " [2.8 4.4 4.6 4.7 5.4 5.3 0.  1. ]\n",
      " [7.1 6.9 8.1 7.2 6.9 7.4 1.  0. ]\n",
      " [6.7 6.6 7.6 7.4 6.1 6.5 0.  1. ]\n",
      " [6.3 7.  5.5 6.3 8.5 8.7 0.  1. ]\n",
      " [5.2 6.8 6.7 6.6 7.3 7.3 1.  0. ]\n",
      " [6.6 6.3 6.7 6.  5.8 6.  0.  1. ]\n",
      " [2.4 3.3 3.9 3.3 4.4 3.8 0.  1. ]\n",
      " [5.4 6.3 4.3 4.9 3.  4.  1.  0. ]\n",
      " [7.2 8.4 7.3 6.5 7.9 8.9 0.  1. ]\n",
      " [5.1 5.3 4.7 5.6 6.2 5.9 1.  0. ]\n",
      " [7.2 7.3 7.5 7.6 7.8 6.4 0.  1. ]\n",
      " [3.9 5.6 6.3 6.9 9.3 8.4 1.  0. ]\n",
      " [5.7 5.6 4.7 5.1 5.6 7.2 1.  0. ]\n",
      " [5.  5.8 6.  6.6 6.8 5.5 0.  1. ]\n",
      " [5.1 5.  7.4 6.  6.8 7.3 0.  1. ]\n",
      " [5.8 7.6 6.6 5.3 6.5 8.2 0.  1. ]\n",
      " [5.  6.8 7.2 6.1 8.  7.5 1.  0. ]\n",
      " [6.1 8.8 8.4 6.6 7.8 7.8 0.  1. ]\n",
      " [7.2 7.9 7.3 8.4 7.8 6.9 0.  1. ]\n",
      " [2.5 6.2 6.5 7.3 3.4 5.3 1.  0. ]\n",
      " [5.9 7.4 5.5 7.  5.5 8.2 0.  1. ]\n",
      " [5.3 5.1 6.4 5.6 6.5 6.5 0.  1. ]\n",
      " [5.4 6.  6.9 6.9 6.7 7.5 0.  1. ]\n",
      " [7.1 8.3 8.6 8.3 8.6 8.5 0.  1. ]\n",
      " [5.3 8.  6.8 6.6 7.4 5.9 0.  1. ]\n",
      " [5.3 7.5 7.8 8.5 6.8 7.5 0.  1. ]\n",
      " [5.4 4.8 5.5 5.5 7.5 7.3 1.  0. ]\n",
      " [3.4 4.4 5.8 3.  3.2 3.7 1.  0. ]\n",
      " [6.5 7.3 6.4 8.1 7.7 7.7 0.  1. ]\n",
      " [3.6 3.5 4.2 3.2 4.4 4.9 1.  0. ]\n",
      " [8.2 9.2 9.3 8.1 8.7 9.3 0.  1. ]\n",
      " [6.3 8.1 5.7 7.3 8.3 8.4 1.  0. ]\n",
      " [7.2 8.4 7.4 7.2 7.4 6.9 0.  1. ]\n",
      " [5.2 6.8 6.5 5.8 6.4 7.8 1.  0. ]\n",
      " [5.3 5.2 5.  3.5 5.2 5.2 1.  0. ]\n",
      " [4.7 6.2 4.3 5.3 6.4 7.  1.  0. ]\n",
      " [4.2 5.5 5.1 6.4 8.  8.5 0.  1. ]\n",
      " [8.6 8.9 7.7 6.7 7.9 6.6 0.  1. ]\n",
      " [8.8 9.5 9.5 8.5 9.  8.5 1.  0. ]\n",
      " [6.  6.  6.8 5.4 6.7 6.7 0.  1. ]\n",
      " [5.6 5.5 4.8 6.1 6.6 8.5 1.  0. ]\n",
      " [6.5 8.3 8.3 7.1 5.8 7.9 1.  0. ]\n",
      " [7.6 7.7 7.5 5.5 6.5 6.5 0.  1. ]\n",
      " [8.8 7.3 7.5 7.7 7.4 7.5 0.  1. ]\n",
      " [4.1 4.4 6.  4.3 5.6 5.1 1.  0. ]\n",
      " [6.  5.4 7.6 4.4 6.8 8.  1.  0. ]\n",
      " [2.6 3.8 5.9 6.8 6.3 8.  1.  0. ]\n",
      " [7.3 8.1 8.2 7.9 8.4 8.1 1.  0. ]\n",
      " [3.  3.5 3.8 5.5 5.  5.1 1.  0. ]\n",
      " [6.  6.2 5.1 5.1 3.5 5.6 1.  0. ]\n",
      " [8.3 8.2 7.8 7.7 8.8 8.5 0.  1. ]]\n"
     ]
    }
   ],
   "source": [
    "X_train=X_train\n",
    "print(X_train)"
   ]
  },
  {
   "cell_type": "code",
   "execution_count": 282,
   "metadata": {},
   "outputs": [
    {
     "name": "stdout",
     "output_type": "stream",
     "text": [
      "[[13.69 16.81  9.61 11.56 30.25 32.49  0.    1.  ]\n",
      " [86.49 92.16 50.41 72.25 72.25 60.84  1.    0.  ]\n",
      " [65.61 77.44 84.64 77.44 79.21 72.25  1.    0.  ]\n",
      " [24.01 37.21  6.25 38.44 24.01 42.25  1.    0.  ]\n",
      " [21.16 51.84 57.76 38.44 64.   51.84  1.    0.  ]\n",
      " [32.49 15.21 32.49 21.16 46.24 53.29  1.    0.  ]\n",
      " [18.49 28.09 53.29 59.29 54.76 50.41  1.    0.  ]\n",
      " [62.41 67.24 65.61 47.61 64.   65.61  1.    0.  ]\n",
      " [27.04 39.69 60.84 57.76 38.44 53.29  0.    1.  ]\n",
      " [39.69 39.69 27.04 37.21 36.   32.49  1.    0.  ]\n",
      " [47.61 29.16 28.09 28.09 51.84 50.41  0.    1.  ]\n",
      " [42.25 28.09 37.21 32.49 50.41 47.61  1.    0.  ]\n",
      " [19.36 19.36 26.01 31.36 33.64 33.64  1.    0.  ]\n",
      " [31.36 25.    7.84 37.21 23.04 32.49  1.    0.  ]\n",
      " [33.64 40.96 53.29 50.41 53.29 44.89  1.    0.  ]\n",
      " [67.24 40.96 37.21 33.64 50.41 79.21  0.    1.  ]\n",
      " [53.29 56.25 64.   59.29 60.84 65.61  1.    0.  ]\n",
      " [53.29 34.81 50.41 59.29 62.41 43.56  1.    0.  ]\n",
      " [65.61 19.36 25.    8.41 33.64 31.36  0.    1.  ]\n",
      " [25.   30.25  5.29 16.81 11.56 16.81  0.    1.  ]\n",
      " [36.   53.29 54.76 65.61 59.29 42.25  0.    1.  ]\n",
      " [67.24 72.25 44.89 46.24 56.25 57.76  0.    1.  ]\n",
      " [28.09 40.96 37.21 25.   28.09 37.21  1.    0.  ]\n",
      " [23.04 26.01 32.49 25.   44.89 43.56  0.    1.  ]\n",
      " [62.41 70.56 72.25 70.56 90.25 90.25  0.    1.  ]\n",
      " [43.56 26.01 34.81 16.81 37.21 54.76  1.    0.  ]\n",
      " [27.04 30.25 22.09 18.49 22.09 32.49  0.    1.  ]\n",
      " [53.29 33.64 72.25 57.76 86.49 68.89  0.    1.  ]\n",
      " [30.25 36.    8.41 17.64 30.25 16.    1.    0.  ]\n",
      " [ 7.84 19.36 21.16 22.09 29.16 28.09  0.    1.  ]\n",
      " [50.41 47.61 65.61 51.84 47.61 54.76  1.    0.  ]\n",
      " [44.89 43.56 57.76 54.76 37.21 42.25  0.    1.  ]\n",
      " [39.69 49.   30.25 39.69 72.25 75.69  0.    1.  ]\n",
      " [27.04 46.24 44.89 43.56 53.29 53.29  1.    0.  ]\n",
      " [43.56 39.69 44.89 36.   33.64 36.    0.    1.  ]\n",
      " [ 5.76 10.89 15.21 10.89 19.36 14.44  0.    1.  ]\n",
      " [29.16 39.69 18.49 24.01  9.   16.    1.    0.  ]\n",
      " [51.84 70.56 53.29 42.25 62.41 79.21  0.    1.  ]\n",
      " [26.01 28.09 22.09 31.36 38.44 34.81  1.    0.  ]\n",
      " [51.84 53.29 56.25 57.76 60.84 40.96  0.    1.  ]\n",
      " [15.21 31.36 39.69 47.61 86.49 70.56  1.    0.  ]\n",
      " [32.49 31.36 22.09 26.01 31.36 51.84  1.    0.  ]\n",
      " [25.   33.64 36.   43.56 46.24 30.25  0.    1.  ]\n",
      " [26.01 25.   54.76 36.   46.24 53.29  0.    1.  ]\n",
      " [33.64 57.76 43.56 28.09 42.25 67.24  0.    1.  ]\n",
      " [25.   46.24 51.84 37.21 64.   56.25  1.    0.  ]\n",
      " [37.21 77.44 70.56 43.56 60.84 60.84  0.    1.  ]\n",
      " [51.84 62.41 53.29 70.56 60.84 47.61  0.    1.  ]\n",
      " [ 6.25 38.44 42.25 53.29 11.56 28.09  1.    0.  ]\n",
      " [34.81 54.76 30.25 49.   30.25 67.24  0.    1.  ]\n",
      " [28.09 26.01 40.96 31.36 42.25 42.25  0.    1.  ]\n",
      " [29.16 36.   47.61 47.61 44.89 56.25  0.    1.  ]\n",
      " [50.41 68.89 73.96 68.89 73.96 72.25  0.    1.  ]\n",
      " [28.09 64.   46.24 43.56 54.76 34.81  0.    1.  ]\n",
      " [28.09 56.25 60.84 72.25 46.24 56.25  0.    1.  ]\n",
      " [29.16 23.04 30.25 30.25 56.25 53.29  1.    0.  ]\n",
      " [11.56 19.36 33.64  9.   10.24 13.69  1.    0.  ]\n",
      " [42.25 53.29 40.96 65.61 59.29 59.29  0.    1.  ]\n",
      " [12.96 12.25 17.64 10.24 19.36 24.01  1.    0.  ]\n",
      " [67.24 84.64 86.49 65.61 75.69 86.49  0.    1.  ]\n",
      " [39.69 65.61 32.49 53.29 68.89 70.56  1.    0.  ]\n",
      " [51.84 70.56 54.76 51.84 54.76 47.61  0.    1.  ]\n",
      " [27.04 46.24 42.25 33.64 40.96 60.84  1.    0.  ]\n",
      " [28.09 27.04 25.   12.25 27.04 27.04  1.    0.  ]\n",
      " [22.09 38.44 18.49 28.09 40.96 49.    1.    0.  ]\n",
      " [17.64 30.25 26.01 40.96 64.   72.25  0.    1.  ]\n",
      " [73.96 79.21 59.29 44.89 62.41 43.56  0.    1.  ]\n",
      " [77.44 90.25 90.25 72.25 81.   72.25  1.    0.  ]\n",
      " [36.   36.   46.24 29.16 44.89 44.89  0.    1.  ]\n",
      " [31.36 30.25 23.04 37.21 43.56 72.25  1.    0.  ]\n",
      " [42.25 68.89 68.89 50.41 33.64 62.41  1.    0.  ]\n",
      " [57.76 59.29 56.25 30.25 42.25 42.25  0.    1.  ]\n",
      " [77.44 53.29 56.25 59.29 54.76 56.25  0.    1.  ]\n",
      " [16.81 19.36 36.   18.49 31.36 26.01  1.    0.  ]\n",
      " [36.   29.16 57.76 19.36 46.24 64.    1.    0.  ]\n",
      " [ 6.76 14.44 34.81 46.24 39.69 64.    1.    0.  ]\n",
      " [53.29 65.61 67.24 62.41 70.56 65.61  1.    0.  ]\n",
      " [ 9.   12.25 14.44 30.25 25.   26.01  1.    0.  ]\n",
      " [36.   38.44 26.01 26.01 12.25 31.36  1.    0.  ]\n",
      " [68.89 67.24 60.84 59.29 77.44 72.25  0.    1.  ]]\n"
     ]
    }
   ],
   "source": [
    "import numpy as np\n",
    "\n",
    "# Áp dụng phép biến đổi x*x cho các biến đầu vào trên tập train\n",
    "X_train = X_train**2\n",
    "\n",
    "\n",
    "# In ra dữ liệu sau khi biến đổi\n",
    "print(X_train)\n"
   ]
  },
  {
   "cell_type": "code",
   "execution_count": 283,
   "metadata": {},
   "outputs": [
    {
     "data": {
      "image/png": "[encoded data removed]",
      "text/plain": [
       "<Figure size 640x480 with 1 Axes>"
      ]
     },
     "metadata": {},
     "output_type": "display_data"
    }
   ],
   "source": [
    "\n",
    "plt.hist(X_train[:,[0,1,2,3,4,5]])\n",
    "plt.show()\n",
    "\n",
    "# plt.hist(X_train)\n",
    "# plt.show()\n",
    "\n",
    "# X_train.hist(bins=14)\n",
    "# plt.show()"
   ]
  },
  {
   "cell_type": "code",
   "execution_count": 284,
   "metadata": {},
   "outputs": [],
   "source": [
    "from sklearn.preprocessing import MinMaxScaler\n",
    "\n",
    "scaler = MinMaxScaler()\n",
    "X_train_scaled = scaler.fit_transform(X_train)\n",
    "X_train=X_train_scaled"
   ]
  },
  {
   "cell_type": "code",
   "execution_count": 285,
   "metadata": {},
   "outputs": [
    {
     "data": {
      "image/png": "[encoded data removed]",
      "text/plain": [
       "<Figure size 640x480 with 1 Axes>"
      ]
     },
     "metadata": {},
     "output_type": "display_data"
    }
   ],
   "source": [
    "\n",
    "sns.boxplot(X_train[:,[0,1,2,3,4,5]] ,orient='h')\n",
    "plt.show()"
   ]
  },
  {
   "cell_type": "code",
   "execution_count": 286,
   "metadata": {},
   "outputs": [
    {
     "data": {
      "text/html": [
       "<style>#sk-container-id-9 {color: black;}#sk-container-id-9 pre{padding: 0;}#sk-container-id-9 div.sk-toggleable {background-color: white;}#sk-container-id-9 label.sk-toggleable__label {cursor: pointer;display: block;width: 100%;margin-bottom: 0;padding: 0.3em;box-sizing: border-box;text-align: center;}#sk-container-id-9 label.sk-toggleable__label-arrow:before {content: \"▸\";float: left;margin-right: 0.25em;color: #696969;}#sk-container-id-9 label.sk-toggleable__label-arrow:hover:before {color: black;}#sk-container-id-9 div.sk-estimator:hover label.sk-toggleable__label-arrow:before {color: black;}#sk-container-id-9 div.sk-toggleable__content {max-height: 0;max-width: 0;overflow: hidden;text-align: left;background-color: #f0f8ff;}#sk-container-id-9 div.sk-toggleable__content pre {margin: 0.2em;color: black;border-radius: 0.25em;background-color: #f0f8ff;}#sk-container-id-9 input.sk-toggleable__control:checked~div.sk-toggleable__content {max-height: 200px;max-width: 100%;overflow: auto;}#sk-container-id-9 input.sk-toggleable__control:checked~label.sk-toggleable__label-arrow:before {content: \"▾\";}#sk-container-id-9 div.sk-estimator input.sk-toggleable__control:checked~label.sk-toggleable__label {background-color: #d4ebff;}#sk-container-id-9 div.sk-label input.sk-toggleable__control:checked~label.sk-toggleable__label {background-color: #d4ebff;}#sk-container-id-9 input.sk-hidden--visually {border: 0;clip: rect(1px 1px 1px 1px);clip: rect(1px, 1px, 1px, 1px);height: 1px;margin: -1px;overflow: hidden;padding: 0;position: absolute;width: 1px;}#sk-container-id-9 div.sk-estimator {font-family: monospace;background-color: #f0f8ff;border: 1px dotted black;border-radius: 0.25em;box-sizing: border-box;margin-bottom: 0.5em;}#sk-container-id-9 div.sk-estimator:hover {background-color: #d4ebff;}#sk-container-id-9 div.sk-parallel-item::after {content: \"\";width: 100%;border-bottom: 1px solid gray;flex-grow: 1;}#sk-container-id-9 div.sk-label:hover label.sk-toggleable__label {background-color: #d4ebff;}#sk-container-id-9 div.sk-serial::before {content: \"\";position: absolute;border-left: 1px solid gray;box-sizing: border-box;top: 0;bottom: 0;left: 50%;z-index: 0;}#sk-container-id-9 div.sk-serial {display: flex;flex-direction: column;align-items: center;background-color: white;padding-right: 0.2em;padding-left: 0.2em;position: relative;}#sk-container-id-9 div.sk-item {position: relative;z-index: 1;}#sk-container-id-9 div.sk-parallel {display: flex;align-items: stretch;justify-content: center;background-color: white;position: relative;}#sk-container-id-9 div.sk-item::before, #sk-container-id-9 div.sk-parallel-item::before {content: \"\";position: absolute;border-left: 1px solid gray;box-sizing: border-box;top: 0;bottom: 0;left: 50%;z-index: -1;}#sk-container-id-9 div.sk-parallel-item {display: flex;flex-direction: column;z-index: 1;position: relative;background-color: white;}#sk-container-id-9 div.sk-parallel-item:first-child::after {align-self: flex-end;width: 50%;}#sk-container-id-9 div.sk-parallel-item:last-child::after {align-self: flex-start;width: 50%;}#sk-container-id-9 div.sk-parallel-item:only-child::after {width: 0;}#sk-container-id-9 div.sk-dashed-wrapped {border: 1px dashed gray;margin: 0 0.4em 0.5em 0.4em;box-sizing: border-box;padding-bottom: 0.4em;background-color: white;}#sk-container-id-9 div.sk-label label {font-family: monospace;font-weight: bold;display: inline-block;line-height: 1.2em;}#sk-container-id-9 div.sk-label-container {text-align: center;}#sk-container-id-9 div.sk-container {/* jupyter's `normalize.less` sets `[hidden] { display: none; }` but bootstrap.min.css set `[hidden] { display: none !important; }` so we also need the `!important` here to be able to override the default hidden behavior on the sphinx rendered scikit-learn.org. See: https://github.com/scikit-learn/scikit-learn/issues/21755 */display: inline-block !important;position: relative;}#sk-container-id-9 div.sk-text-repr-fallback {display: none;}</style><div id=\"sk-container-id-9\" class=\"sk-top-container\"><div class=\"sk-text-repr-fallback\"><pre>LinearRegression()</pre><b>In a Jupyter environment, please rerun this cell to show the HTML representation or trust the notebook. <br />On GitHub, the HTML representation is unable to render, please try loading this page with nbviewer.org.</b></div><div class=\"sk-container\" hidden><div class=\"sk-item\"><div class=\"sk-estimator sk-toggleable\"><input class=\"sk-toggleable__control sk-hidden--visually\" id=\"sk-estimator-id-9\" type=\"checkbox\" checked><label for=\"sk-estimator-id-9\" class=\"sk-toggleable__label sk-toggleable__label-arrow\">LinearRegression</label><div class=\"sk-toggleable__content\"><pre>LinearRegression()</pre></div></div></div></div></div>"
      ],
      "text/plain": [
       "LinearRegression()"
      ]
     },
     "execution_count": 286,
     "metadata": {},
     "output_type": "execute_result"
    }
   ],
   "source": [
    "from sklearn.linear_model import LinearRegression\n",
    "\n",
    "# Tạo mô hình hồi quy tuyến tính\n",
    "model = LinearRegression()\n",
    "\n",
    "# Fit mô hình trên tập train đã được chuẩn hóa\n",
    "model.fit(X_train, y_train)"
   ]
  },
  {
   "cell_type": "code",
   "execution_count": 287,
   "metadata": {},
   "outputs": [
    {
     "name": "stdout",
     "output_type": "stream",
     "text": [
      "[-3.23225329e+14]\n",
      "[[ 5.03163157e-01  2.21079860e-02 -6.03876280e-01 -4.16413141e-01\n",
      "   1.70310631e-01  1.54871252e+00  3.23225329e+14  3.23225329e+14]]\n"
     ]
    }
   ],
   "source": [
    "from sklearn import linear_model \n",
    "\n",
    "model = linear_model.LinearRegression()\n",
    "model.fit(X_train,y_train)\n",
    "#to retrieve the intercept\n",
    "print(model.intercept_)\n",
    "#for retrieving the slope \n",
    "print(model.coef_)"
   ]
  },
  {
   "cell_type": "code",
   "execution_count": 288,
   "metadata": {},
   "outputs": [
    {
     "name": "stdout",
     "output_type": "stream",
     "text": [
      "MAE on Train Set: 0.71953125\n",
      "MAE on Test Set: 8.159375\n"
     ]
    }
   ],
   "source": [
    "from sklearn.metrics import mean_absolute_error\n",
    "\n",
    "# Dự đoán trên tập train\n",
    "y_train_pred = model.predict(X_train)\n",
    "\n",
    "# Dự đoán trên tập test \n",
    "y_test_pred = model.predict(X_test)\n",
    "\n",
    "# Tính MAE trên tập train và test\n",
    "mae_train = mean_absolute_error(y_train, y_train_pred)\n",
    "mae_test = mean_absolute_error(y_test, y_test_pred)\n",
    "\n",
    "print(\"MAE on Train Set:\", mae_train)\n",
    "print(\"MAE on Test Set:\", mae_test)"
   ]
  },
  {
   "cell_type": "code",
   "execution_count": 291,
   "metadata": {},
   "outputs": [
    {
     "name": "stdout",
     "output_type": "stream",
     "text": [
      "Predicted LOGIC Score: [10.0625]\n"
     ]
    }
   ],
   "source": [
    "# Áp dụng dự báo cho giá trị T1, T2, T3, T4, T5, T6 và GT đã cho\n",
    "new_data = np.array([5.0, 6.5, 7.0, 7.0, 6.5, 6.0, 1, 0]).reshape(1, -1)  # GT=MALE encoded as 1, FEMALE as 0\n",
    "logic_score = model.predict(new_data)\n",
    "\n",
    "print(\"Predicted LOGIC Score:\", logic_score[0])\n"
   ]
  }
 ],
 "metadata": {
  "kernelspec": {
   "display_name": "Python 3",
   "language": "python",
   "name": "python3"
  },
  "language_info": {
   "codemirror_mode": {
    "name": "ipython",
    "version": 3
   },
   "file_extension": ".py",
   "mimetype": "text/x-python",
   "name": "python",
   "nbconvert_exporter": "python",
   "pygments_lexer": "ipython3",
   "version": "3.11.6"
  }
 },
 "nbformat": 4,
 "nbformat_minor": 2
}
