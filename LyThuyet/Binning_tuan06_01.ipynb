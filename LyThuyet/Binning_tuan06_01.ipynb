{
 "cells": [
  {
   "cell_type": "code",
   "execution_count": 2,
   "metadata": {},
   "outputs": [],
   "source": [
    "#1. Kỹ thuật Binning\n",
    "#Mục đích:\n",
    "#- Sử dụng để biến đổi biến định lượng về biến định tính thông qua việc chia khoảng\n",
    "#- Giảm thiểu dữ liệu nhiễu\n",
    "#- Làm mịn (smooth) dữ liệu\n",
    "#- Hỗ trợ trong nhiều bài toán Machine Learning như Decision Tree\n",
    "\n",
    "import pandas as pd"
   ]
  },
  {
   "cell_type": "code",
   "execution_count": 3,
   "metadata": {},
   "outputs": [],
   "source": [
    "#Create Datafarm\n",
    "df = pd.DataFrame({'points': [4, 4, 7, 8, 12, 13, 15, 18, 22, 23, 23, 25],\n",
    "                   'assists': [2, 5, 4, 7, 7, 8, 5, 4, 5, 11, 13, 8],\n",
    "                   'rebounds': [7, 7, 4, 6, 3, 8, 9, 9, 12, 11, 8, 9]})"
   ]
  },
  {
   "cell_type": "code",
   "execution_count": 4,
   "metadata": {},
   "outputs": [],
   "source": [
    "#perform data binning on point variable\n",
    "df['points_bin'] = pd.qcut(df['points'], q=3)"
   ]
  },
  {
   "cell_type": "code",
   "execution_count": 5,
   "metadata": {},
   "outputs": [
    {
     "name": "stdout",
     "output_type": "stream",
     "text": [
      "    points  assists  rebounds        points_bin\n",
      "0        4        2         7   (3.999, 10.667]\n",
      "1        4        5         7   (3.999, 10.667]\n",
      "2        7        4         4   (3.999, 10.667]\n",
      "3        8        7         6   (3.999, 10.667]\n",
      "4       12        7         3  (10.667, 19.333]\n",
      "5       13        8         8  (10.667, 19.333]\n",
      "6       15        5         9  (10.667, 19.333]\n",
      "7       18        4         9  (10.667, 19.333]\n",
      "8       22        5        12    (19.333, 25.0]\n",
      "9       23       11        11    (19.333, 25.0]\n",
      "10      23       13         8    (19.333, 25.0]\n",
      "11      25        8         9    (19.333, 25.0]\n"
     ]
    }
   ],
   "source": [
    "print(df)"
   ]
  },
  {
   "cell_type": "code",
   "execution_count": 6,
   "metadata": {},
   "outputs": [
    {
     "data": {
      "text/plain": [
       "(3.999, 10.667]     4\n",
       "(10.667, 19.333]    4\n",
       "(19.333, 25.0]      4\n",
       "Name: points_bin, dtype: int64"
      ]
     },
     "execution_count": 6,
     "metadata": {},
     "output_type": "execute_result"
    }
   ],
   "source": [
    "df['points_bin'].value_counts()"
   ]
  },
  {
   "cell_type": "code",
   "execution_count": 7,
   "metadata": {},
   "outputs": [],
   "source": [
    "df['points_bin'] = pd.qcut(df['points'], q=[0, .2, .4, .6, .8, 1])"
   ]
  },
  {
   "cell_type": "code",
   "execution_count": 8,
   "metadata": {},
   "outputs": [
    {
     "name": "stdout",
     "output_type": "stream",
     "text": [
      "    points  assists  rebounds    points_bin\n",
      "0        4        2         7  (3.999, 7.2]\n",
      "1        4        5         7  (3.999, 7.2]\n",
      "2        7        4         4  (3.999, 7.2]\n",
      "3        8        7         6   (7.2, 12.4]\n",
      "4       12        7         3   (7.2, 12.4]\n",
      "5       13        8         8  (12.4, 16.8]\n",
      "6       15        5         9  (12.4, 16.8]\n",
      "7       18        4         9  (16.8, 22.8]\n",
      "8       22        5        12  (16.8, 22.8]\n",
      "9       23       11        11  (22.8, 25.0]\n",
      "10      23       13         8  (22.8, 25.0]\n",
      "11      25        8         9  (22.8, 25.0]\n"
     ]
    }
   ],
   "source": [
    "print(df)"
   ]
  },
  {
   "cell_type": "code",
   "execution_count": 9,
   "metadata": {},
   "outputs": [
    {
     "name": "stdout",
     "output_type": "stream",
     "text": [
      "    points  assists  rebounds    points_bin\n",
      "0        4        2         7  (3.999, 7.2]\n",
      "1        4        5         7  (3.999, 7.2]\n",
      "2        7        4         4  (3.999, 7.2]\n",
      "3        8        7         6   (7.2, 12.4]\n",
      "4       12        7         3   (7.2, 12.4]\n",
      "5       13        8         8  (12.4, 16.8]\n",
      "6       15        5         9  (12.4, 16.8]\n",
      "7       18        4         9  (16.8, 22.8]\n",
      "8       22        5        12  (16.8, 22.8]\n",
      "9       23       11        11  (22.8, 25.0]\n",
      "10      23       13         8  (22.8, 25.0]\n",
      "11      25        8         9  (22.8, 25.0]\n"
     ]
    }
   ],
   "source": [
    "#View updated Dataframe\n",
    "print(df)\n",
    "df['points_bin'] = pd.qcut(df['points'],\n",
    "                           q=[0, .2, .4, .6, .8, 1],\n",
    "                           labels=['A', 'B', 'C', 'D', 'E'])"
   ]
  }
 ],
 "metadata": {
  "kernelspec": {
   "display_name": "base",
   "language": "python",
   "name": "python3"
  },
  "language_info": {
   "codemirror_mode": {
    "name": "ipython",
    "version": 3
   },
   "file_extension": ".py",
   "mimetype": "text/x-python",
   "name": "python",
   "nbconvert_exporter": "python",
   "pygments_lexer": "ipython3",
   "version": "3.11.4"
  },
  "orig_nbformat": 4
 },
 "nbformat": 4,
 "nbformat_minor": 2
}
