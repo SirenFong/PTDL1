{
 "cells": [
  {
   "cell_type": "code",
   "execution_count": 1,
   "metadata": {},
   "outputs": [],
   "source": [
    "import pandas as pd"
   ]
  },
  {
   "cell_type": "code",
   "execution_count": 2,
   "metadata": {},
   "outputs": [],
   "source": [
    "df = pd.DataFrame({'team': ['A', 'B', 'C', 'D', 'E', 'F', 'G', 'H'],\n",
    "                   'points': [12, 15, 19, 22, 24, 25, 26, 30]})"
   ]
  },
  {
   "cell_type": "code",
   "execution_count": 3,
   "metadata": {},
   "outputs": [
    {
     "name": "stdout",
     "output_type": "stream",
     "text": [
      "  team  points\n",
      "0    A      12\n",
      "1    B      15\n",
      "2    C      19\n",
      "3    D      22\n",
      "4    E      24\n",
      "5    F      25\n",
      "6    G      26\n",
      "7    H      30\n"
     ]
    }
   ],
   "source": [
    "print(df)"
   ]
  },
  {
   "cell_type": "code",
   "execution_count": 4,
   "metadata": {},
   "outputs": [],
   "source": [
    "#create categorical variable 'status' based on existing numerical 'points' variable\n",
    "df['status'] = pd.cut(df['points'],\n",
    "                      bins=[0, 15, 25, float('Inf')],\n",
    "                      labels=['Bad', 'OK', 'Good'])\n"
   ]
  },
  {
   "cell_type": "code",
   "execution_count": 5,
   "metadata": {},
   "outputs": [
    {
     "name": "stdout",
     "output_type": "stream",
     "text": [
      "  team  points status\n",
      "0    A      12    Bad\n",
      "1    B      15    Bad\n",
      "2    C      19     OK\n",
      "3    D      22     OK\n",
      "4    E      24     OK\n",
      "5    F      25     OK\n",
      "6    G      26   Good\n",
      "7    H      30   Good\n"
     ]
    }
   ],
   "source": [
    "print(df)"
   ]
  }
 ],
 "metadata": {
  "kernelspec": {
   "display_name": "base",
   "language": "python",
   "name": "python3"
  },
  "language_info": {
   "codemirror_mode": {
    "name": "ipython",
    "version": 3
   },
   "file_extension": ".py",
   "mimetype": "text/x-python",
   "name": "python",
   "nbconvert_exporter": "python",
   "pygments_lexer": "ipython3",
   "version": "3.11.4"
  },
  "orig_nbformat": 4
 },
 "nbformat": 4,
 "nbformat_minor": 2
}
