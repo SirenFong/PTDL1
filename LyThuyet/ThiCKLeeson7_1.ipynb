{
 "cells": [
  {
   "cell_type": "code",
   "execution_count": 290,
   "metadata": {},
   "outputs": [],
   "source": [
    "#hãy dự báo điểm thi đánh giá năng lực phần NGONNGU\n",
    "#dựa trên điểm thi T5 và T6 sử dụng mô hình hồi quy tuyến tính\n",
    "#NGONNGU = f(T5,T6) = A0 + A1*T5 + A2*T6 + epsilon\n",
    "#với các thiết lập tập training chiếm 80% và random state = 16"
   ]
  },
  {
   "cell_type": "code",
   "execution_count": 291,
   "metadata": {},
   "outputs": [],
   "source": [
    "import pandas as pd\n",
    "import matplotlib.pyplot as plt"
   ]
  },
  {
   "cell_type": "code",
   "execution_count": 292,
   "metadata": {},
   "outputs": [],
   "source": [
    "df = pd.read_csv('DataLT/dulieuxettuyendaihoc.csv', header=0, delimiter=',', encoding='utf-8')"
   ]
  },
  {
   "cell_type": "code",
   "execution_count": 293,
   "metadata": {},
   "outputs": [],
   "source": [
    "df = df[['T5','T6','NGONNGU', 'TOANLOGICPHANTICH','GIAIQUYETVANDE']]"
   ]
  },
  {
   "cell_type": "code",
   "execution_count": 294,
   "metadata": {},
   "outputs": [],
   "source": [
    "df.rename(columns={'TOANLOGICPHANTICH' : 'LOGIC', 'GIAIQUYETVANDE':'UNGXU'},inplace=True)"
   ]
  },
  {
   "cell_type": "code",
   "execution_count": 295,
   "metadata": {},
   "outputs": [
    {
     "data": {
      "text/html": [
       "<div>\n",
       "<style scoped>\n",
       "    .dataframe tbody tr th:only-of-type {\n",
       "        vertical-align: middle;\n",
       "    }\n",
       "\n",
       "    .dataframe tbody tr th {\n",
       "        vertical-align: top;\n",
       "    }\n",
       "\n",
       "    .dataframe thead th {\n",
       "        text-align: right;\n",
       "    }\n",
       "</style>\n",
       "<table border=\"1\" class=\"dataframe\">\n",
       "  <thead>\n",
       "    <tr style=\"text-align: right;\">\n",
       "      <th></th>\n",
       "      <th>T5</th>\n",
       "      <th>T6</th>\n",
       "      <th>NGONNGU</th>\n",
       "    </tr>\n",
       "  </thead>\n",
       "  <tbody>\n",
       "    <tr>\n",
       "      <th>0</th>\n",
       "      <td>7.4</td>\n",
       "      <td>6.9</td>\n",
       "      <td>3.25</td>\n",
       "    </tr>\n",
       "    <tr>\n",
       "      <th>1</th>\n",
       "      <td>3.0</td>\n",
       "      <td>4.0</td>\n",
       "      <td>6.00</td>\n",
       "    </tr>\n",
       "    <tr>\n",
       "      <th>2</th>\n",
       "      <td>4.8</td>\n",
       "      <td>5.7</td>\n",
       "      <td>5.00</td>\n",
       "    </tr>\n",
       "    <tr>\n",
       "      <th>3</th>\n",
       "      <td>6.1</td>\n",
       "      <td>7.4</td>\n",
       "      <td>4.25</td>\n",
       "    </tr>\n",
       "    <tr>\n",
       "      <th>4</th>\n",
       "      <td>6.8</td>\n",
       "      <td>8.0</td>\n",
       "      <td>4.25</td>\n",
       "    </tr>\n",
       "  </tbody>\n",
       "</table>\n",
       "</div>"
      ],
      "text/plain": [
       "    T5   T6  NGONNGU\n",
       "0  7.4  6.9     3.25\n",
       "1  3.0  4.0     6.00\n",
       "2  4.8  5.7     5.00\n",
       "3  6.1  7.4     4.25\n",
       "4  6.8  8.0     4.25"
      ]
     },
     "execution_count": 295,
     "metadata": {},
     "output_type": "execute_result"
    }
   ],
   "source": [
    "df[['T5', 'T6','NGONNGU']].head(5)"
   ]
  },
  {
   "cell_type": "code",
   "execution_count": 296,
   "metadata": {},
   "outputs": [
    {
     "data": {
      "text/html": [
       "<div>\n",
       "<style scoped>\n",
       "    .dataframe tbody tr th:only-of-type {\n",
       "        vertical-align: middle;\n",
       "    }\n",
       "\n",
       "    .dataframe tbody tr th {\n",
       "        vertical-align: top;\n",
       "    }\n",
       "\n",
       "    .dataframe thead th {\n",
       "        text-align: right;\n",
       "    }\n",
       "</style>\n",
       "<table border=\"1\" class=\"dataframe\">\n",
       "  <thead>\n",
       "    <tr style=\"text-align: right;\">\n",
       "      <th></th>\n",
       "      <th>T5</th>\n",
       "      <th>T6</th>\n",
       "    </tr>\n",
       "  </thead>\n",
       "  <tbody>\n",
       "    <tr>\n",
       "      <th>T5</th>\n",
       "      <td>1.000000</td>\n",
       "      <td>0.778683</td>\n",
       "    </tr>\n",
       "    <tr>\n",
       "      <th>T6</th>\n",
       "      <td>0.778683</td>\n",
       "      <td>1.000000</td>\n",
       "    </tr>\n",
       "  </tbody>\n",
       "</table>\n",
       "</div>"
      ],
      "text/plain": [
       "          T5        T6\n",
       "T5  1.000000  0.778683\n",
       "T6  0.778683  1.000000"
      ]
     },
     "execution_count": 296,
     "metadata": {},
     "output_type": "execute_result"
    }
   ],
   "source": [
    "df[['T5', 'T6']].corr()"
   ]
  },
  {
   "cell_type": "code",
   "execution_count": 297,
   "metadata": {},
   "outputs": [
    {
     "data": {
      "image/png": "[encoded data removed]",
      "text/plain": [
       "<Figure size 640x480 with 1 Axes>"
      ]
     },
     "metadata": {},
     "output_type": "display_data"
    }
   ],
   "source": [
    "plt.plot(df[['T5']][0:5], df[['T6']][0:5], 'ro')\n",
    "plt.show()"
   ]
  },
  {
   "cell_type": "code",
   "execution_count": 298,
   "metadata": {},
   "outputs": [],
   "source": [
    "X= df[['T5', 'T6']].values #input\n",
    "y= df[['NGONNGU']].values #output\n",
    "\n",
    "#Đảm bảo dữ liệu là kiểu số thực\n",
    "\n",
    "X = X.astype(float)\n",
    "y = y.astype(float)"
   ]
  },
  {
   "cell_type": "code",
   "execution_count": 299,
   "metadata": {},
   "outputs": [],
   "source": [
    "from sklearn.model_selection import train_test_split\n",
    "X_train, X_test, y_train, y_test= train_test_split(X,y,test_size=0.2, random_state=16)"
   ]
  },
  {
   "cell_type": "code",
   "execution_count": 300,
   "metadata": {},
   "outputs": [
    {
     "data": {
      "text/html": [
       "<style>#sk-container-id-11 {color: black;}#sk-container-id-11 pre{padding: 0;}#sk-container-id-11 div.sk-toggleable {background-color: white;}#sk-container-id-11 label.sk-toggleable__label {cursor: pointer;display: block;width: 100%;margin-bottom: 0;padding: 0.3em;box-sizing: border-box;text-align: center;}#sk-container-id-11 label.sk-toggleable__label-arrow:before {content: \"▸\";float: left;margin-right: 0.25em;color: #696969;}#sk-container-id-11 label.sk-toggleable__label-arrow:hover:before {color: black;}#sk-container-id-11 div.sk-estimator:hover label.sk-toggleable__label-arrow:before {color: black;}#sk-container-id-11 div.sk-toggleable__content {max-height: 0;max-width: 0;overflow: hidden;text-align: left;background-color: #f0f8ff;}#sk-container-id-11 div.sk-toggleable__content pre {margin: 0.2em;color: black;border-radius: 0.25em;background-color: #f0f8ff;}#sk-container-id-11 input.sk-toggleable__control:checked~div.sk-toggleable__content {max-height: 200px;max-width: 100%;overflow: auto;}#sk-container-id-11 input.sk-toggleable__control:checked~label.sk-toggleable__label-arrow:before {content: \"▾\";}#sk-container-id-11 div.sk-estimator input.sk-toggleable__control:checked~label.sk-toggleable__label {background-color: #d4ebff;}#sk-container-id-11 div.sk-label input.sk-toggleable__control:checked~label.sk-toggleable__label {background-color: #d4ebff;}#sk-container-id-11 input.sk-hidden--visually {border: 0;clip: rect(1px 1px 1px 1px);clip: rect(1px, 1px, 1px, 1px);height: 1px;margin: -1px;overflow: hidden;padding: 0;position: absolute;width: 1px;}#sk-container-id-11 div.sk-estimator {font-family: monospace;background-color: #f0f8ff;border: 1px dotted black;border-radius: 0.25em;box-sizing: border-box;margin-bottom: 0.5em;}#sk-container-id-11 div.sk-estimator:hover {background-color: #d4ebff;}#sk-container-id-11 div.sk-parallel-item::after {content: \"\";width: 100%;border-bottom: 1px solid gray;flex-grow: 1;}#sk-container-id-11 div.sk-label:hover label.sk-toggleable__label {background-color: #d4ebff;}#sk-container-id-11 div.sk-serial::before {content: \"\";position: absolute;border-left: 1px solid gray;box-sizing: border-box;top: 0;bottom: 0;left: 50%;z-index: 0;}#sk-container-id-11 div.sk-serial {display: flex;flex-direction: column;align-items: center;background-color: white;padding-right: 0.2em;padding-left: 0.2em;position: relative;}#sk-container-id-11 div.sk-item {position: relative;z-index: 1;}#sk-container-id-11 div.sk-parallel {display: flex;align-items: stretch;justify-content: center;background-color: white;position: relative;}#sk-container-id-11 div.sk-item::before, #sk-container-id-11 div.sk-parallel-item::before {content: \"\";position: absolute;border-left: 1px solid gray;box-sizing: border-box;top: 0;bottom: 0;left: 50%;z-index: -1;}#sk-container-id-11 div.sk-parallel-item {display: flex;flex-direction: column;z-index: 1;position: relative;background-color: white;}#sk-container-id-11 div.sk-parallel-item:first-child::after {align-self: flex-end;width: 50%;}#sk-container-id-11 div.sk-parallel-item:last-child::after {align-self: flex-start;width: 50%;}#sk-container-id-11 div.sk-parallel-item:only-child::after {width: 0;}#sk-container-id-11 div.sk-dashed-wrapped {border: 1px dashed gray;margin: 0 0.4em 0.5em 0.4em;box-sizing: border-box;padding-bottom: 0.4em;background-color: white;}#sk-container-id-11 div.sk-label label {font-family: monospace;font-weight: bold;display: inline-block;line-height: 1.2em;}#sk-container-id-11 div.sk-label-container {text-align: center;}#sk-container-id-11 div.sk-container {/* jupyter's `normalize.less` sets `[hidden] { display: none; }` but bootstrap.min.css set `[hidden] { display: none !important; }` so we also need the `!important` here to be able to override the default hidden behavior on the sphinx rendered scikit-learn.org. See: https://github.com/scikit-learn/scikit-learn/issues/21755 */display: inline-block !important;position: relative;}#sk-container-id-11 div.sk-text-repr-fallback {display: none;}</style><div id=\"sk-container-id-11\" class=\"sk-top-container\"><div class=\"sk-text-repr-fallback\"><pre>LinearRegression()</pre><b>In a Jupyter environment, please rerun this cell to show the HTML representation or trust the notebook. <br />On GitHub, the HTML representation is unable to render, please try loading this page with nbviewer.org.</b></div><div class=\"sk-container\" hidden><div class=\"sk-item\"><div class=\"sk-estimator sk-toggleable\"><input class=\"sk-toggleable__control sk-hidden--visually\" id=\"sk-estimator-id-11\" type=\"checkbox\" checked><label for=\"sk-estimator-id-11\" class=\"sk-toggleable__label sk-toggleable__label-arrow\">LinearRegression</label><div class=\"sk-toggleable__content\"><pre>LinearRegression()</pre></div></div></div></div></div>"
      ],
      "text/plain": [
       "LinearRegression()"
      ]
     },
     "execution_count": 300,
     "metadata": {},
     "output_type": "execute_result"
    }
   ],
   "source": [
    "from sklearn import linear_model\n",
    "\n",
    "model = linear_model.LinearRegression()\n",
    "model.fit(X_train, y_train)"
   ]
  },
  {
   "cell_type": "code",
   "execution_count": 301,
   "metadata": {},
   "outputs": [
    {
     "name": "stdout",
     "output_type": "stream",
     "text": [
      "[4.01205005]\n",
      "[[ 0.19517246 -0.23194661]]\n"
     ]
    }
   ],
   "source": [
    "print(model.intercept_)\n",
    "\n",
    "#For retriving the slope ( coefficient)\n",
    "print(model.coef_)"
   ]
  },
  {
   "cell_type": "code",
   "execution_count": 302,
   "metadata": {},
   "outputs": [],
   "source": [
    "pd.DataFrame(X_test).to_csv(\"DataLT/input_test2.csv\")"
   ]
  },
  {
   "cell_type": "code",
   "execution_count": 303,
   "metadata": {},
   "outputs": [],
   "source": [
    "pd.DataFrame(y_test).to_csv(\"DataLT/output_test2.csv\")"
   ]
  },
  {
   "cell_type": "code",
   "execution_count": 304,
   "metadata": {},
   "outputs": [
    {
     "data": {
      "text/plain": [
       "array([[3.74585912],\n",
       "       [4.28584787],\n",
       "       [3.25170331],\n",
       "       [3.51703355],\n",
       "       [3.81176569],\n",
       "       [3.63158978],\n",
       "       [4.04258212],\n",
       "       [3.53513373],\n",
       "       [3.61178564],\n",
       "       [3.87541191],\n",
       "       [3.60443081],\n",
       "       [3.65449755],\n",
       "       [3.62536513],\n",
       "       [3.59962322],\n",
       "       [3.81488672],\n",
       "       [3.61207254],\n",
       "       [3.5102351 ],\n",
       "       [3.6177234 ],\n",
       "       [4.12319835],\n",
       "       [3.68023945]])"
      ]
     },
     "execution_count": 304,
     "metadata": {},
     "output_type": "execute_result"
    }
   ],
   "source": [
    "import numpy as np\n",
    "from sklearn import metrics\n",
    "\n",
    "y_test_pred = model.predict(X_test)\n",
    "y_test_pred"
   ]
  },
  {
   "cell_type": "code",
   "execution_count": 305,
   "metadata": {},
   "outputs": [],
   "source": [
    "pd.DataFrame(y_test_pred).to_csv(\"output_test_pred2.csv\")"
   ]
  },
  {
   "cell_type": "code",
   "execution_count": 306,
   "metadata": {},
   "outputs": [
    {
     "name": "stdout",
     "output_type": "stream",
     "text": [
      "Mean absolute Error: 1.1905472933346881\n",
      "Mean squared Error: 1.987412256869439\n",
      "Root Mean squared Error: 1.091122034116573\n",
      "Score: -0.07691460875153755\n"
     ]
    }
   ],
   "source": [
    "print(\"Mean absolute Error:\" , metrics.mean_absolute_error(y_test, y_test_pred))\n",
    "print(\"Mean squared Error:\" , metrics.mean_squared_error(y_test, y_test_pred))\n",
    "print(\"Root Mean squared Error:\" , np.sqrt(metrics.mean_absolute_error(y_test, y_test_pred)))\n",
    "\n",
    "#Càng lớn càng tốt\n",
    "print(\"Score:\" , model.score(X_test, y_test))"
   ]
  },
  {
   "cell_type": "code",
   "execution_count": 307,
   "metadata": {},
   "outputs": [
    {
     "data": {
      "image/png": "[encoded data removed]",
      "text/plain": [
       "<Figure size 1000x1000 with 1 Axes>"
      ]
     },
     "metadata": {},
     "output_type": "display_data"
    }
   ],
   "source": [
    "plt.figure(figsize=(10,10))\n",
    "plt.scatter(y_test, y_test_pred, c='crimson')\n",
    "plt.yscale('log')\n",
    "plt.xscale('log')\n",
    "\n",
    "p1=max(max(y_test_pred), max(y_test))\n",
    "p2=min(min(y_test_pred), min(y_test))\n",
    "plt.plot([p1,p2], [p1,p2], 'b-')\n",
    "plt.xlabel('True values', fontsize=15)\n",
    "plt.ylabel('Predictions', fontsize=15)\n",
    "plt.axis('equal')\n",
    "plt.show()"
   ]
  },
  {
   "cell_type": "code",
   "execution_count": 308,
   "metadata": {},
   "outputs": [],
   "source": [
    "import pickle\n",
    "pickle.dump(model, open('DataLT/model_dubao_ngonngu2.sav','wb'))"
   ]
  },
  {
   "cell_type": "code",
   "execution_count": 309,
   "metadata": {},
   "outputs": [],
   "source": [
    "# #Xây dựng ctrinh: Nhập điểm T5, T6 từ bàn phím\n",
    "\n",
    "# import pickle\n",
    "# #Load model tu storage\n",
    "# loaded_model = pickle.load(open('DataLT/model_dubao_ngonngu.sav','rb'))\n",
    "\n",
    "# vT5 = float(input('Nhap T5:'))\n",
    "# vT6 = float(input('Nhap T6:'))\n",
    "\n",
    "# predicted_vlogic = loaded_model.predict([[vT5, vT6]])\n",
    "\n",
    "# print(f'Du bao diem thi NGONNGU la {predicted_vlogic}')"
   ]
  },
  {
   "cell_type": "code",
   "execution_count": 310,
   "metadata": {},
   "outputs": [],
   "source": [
    "X= df[['T5', 'T6']].values #input\n",
    "y= df[['NGONNGU']].values #output"
   ]
  },
  {
   "cell_type": "code",
   "execution_count": 311,
   "metadata": {},
   "outputs": [],
   "source": [
    "from sklearn.preprocessing import MinMaxScaler\n",
    "sc = MinMaxScaler()\n",
    "X = sc.fit_transform(X)"
   ]
  },
  {
   "cell_type": "markdown",
   "metadata": {},
   "source": [
    "Các phương pháp đánh giá mô hình học máy - Dạng hồi quy để đánh giá trên tập dữ liệu huấn luyện ( train ) và đánh giá (test, evaluation)"
   ]
  },
  {
   "cell_type": "markdown",
   "metadata": {},
   "source": [
    "<h4>Tính toán các MAE, MSE, RMISE trên các tập training và test để đánh giá mô hình. Sau đó, đưa ra kết luận</h4>"
   ]
  },
  {
   "cell_type": "code",
   "execution_count": 312,
   "metadata": {},
   "outputs": [],
   "source": [
    "import pandas as pd\n",
    "import matplotlib.pyplot as plt"
   ]
  },
  {
   "cell_type": "code",
   "execution_count": 313,
   "metadata": {},
   "outputs": [],
   "source": [
    "df = pd.read_csv('DataLT/dulieuxettuyendaihoc.csv', header=0, delimiter=',', encoding='utf-8')"
   ]
  },
  {
   "cell_type": "code",
   "execution_count": 314,
   "metadata": {},
   "outputs": [
    {
     "name": "stdout",
     "output_type": "stream",
     "text": [
      "score or R-Squared -0.07691460875153755\n",
      "Mean absolute Error: 1.1905472933346881\n",
      "Mean squared Error: 1.987412256869439\n",
      "Root Mean squared Error: 1.091122034116573\n"
     ]
    }
   ],
   "source": [
    "import numpy as pd\n",
    "from sklearn import metrics\n",
    "\n",
    "y_test_pred = model.predict(X_test)\n",
    "\n",
    "print(\"score or R-Squared\", model.score(X_test, y_test))\n",
    "\n",
    "print(\"Mean absolute Error:\" , metrics.mean_absolute_error(y_test, y_test_pred))\n",
    "print(\"Mean squared Error:\" , metrics.mean_squared_error(y_test, y_test_pred))\n",
    "print(\"Root Mean squared Error:\" , np.sqrt(metrics.mean_absolute_error(y_test, y_test_pred)))"
   ]
  },
  {
   "cell_type": "markdown",
   "metadata": {},
   "source": [
    "<h1>Cách 2: Dùng Scatter giữa aCtual và Predict</h1>"
   ]
  },
  {
   "cell_type": "code",
   "execution_count": 315,
   "metadata": {},
   "outputs": [
    {
     "data": {
      "image/png": "[encoded data removed]",
      "text/plain": [
       "<Figure size 640x480 with 1 Axes>"
      ]
     },
     "metadata": {},
     "output_type": "display_data"
    }
   ],
   "source": [
    "import seaborn as sns\n",
    "sns.lineplot(x=y_test.flatten(), y=y_test.flatten(), color=\"r\")\n",
    "sns.scatterplot(x=y_test.flatten(), y=y_test_pred.flatten(), color=\"b\")\n",
    "plt.show()"
   ]
  },
  {
   "cell_type": "markdown",
   "metadata": {},
   "source": [
    "<h1>Cách 3: Dùng Residual plot</h1>"
   ]
  },
  {
   "cell_type": "code",
   "execution_count": 316,
   "metadata": {},
   "outputs": [
    {
     "data": {
      "text/html": [
       "<div>\n",
       "<style scoped>\n",
       "    .dataframe tbody tr th:only-of-type {\n",
       "        vertical-align: middle;\n",
       "    }\n",
       "\n",
       "    .dataframe tbody tr th {\n",
       "        vertical-align: top;\n",
       "    }\n",
       "\n",
       "    .dataframe thead th {\n",
       "        text-align: right;\n",
       "    }\n",
       "</style>\n",
       "<table border=\"1\" class=\"dataframe\">\n",
       "  <thead>\n",
       "    <tr style=\"text-align: right;\">\n",
       "      <th></th>\n",
       "      <th>T5_test</th>\n",
       "      <th>T6_test</th>\n",
       "      <th>y_test</th>\n",
       "      <th>y_test_predicted</th>\n",
       "      <th>Residual</th>\n",
       "    </tr>\n",
       "  </thead>\n",
       "  <tbody>\n",
       "    <tr>\n",
       "      <th>0</th>\n",
       "      <td>8.5</td>\n",
       "      <td>8.3</td>\n",
       "      <td>3.75</td>\n",
       "      <td>3.745859</td>\n",
       "      <td>0.004141</td>\n",
       "    </tr>\n",
       "    <tr>\n",
       "      <th>1</th>\n",
       "      <td>5.8</td>\n",
       "      <td>3.7</td>\n",
       "      <td>4.75</td>\n",
       "      <td>4.285848</td>\n",
       "      <td>0.464152</td>\n",
       "    </tr>\n",
       "    <tr>\n",
       "      <th>2</th>\n",
       "      <td>6.8</td>\n",
       "      <td>9.0</td>\n",
       "      <td>3.50</td>\n",
       "      <td>3.251703</td>\n",
       "      <td>0.248297</td>\n",
       "    </tr>\n",
       "    <tr>\n",
       "      <th>3</th>\n",
       "      <td>4.0</td>\n",
       "      <td>5.5</td>\n",
       "      <td>5.75</td>\n",
       "      <td>3.517034</td>\n",
       "      <td>2.232966</td>\n",
       "    </tr>\n",
       "    <tr>\n",
       "      <th>4</th>\n",
       "      <td>8.6</td>\n",
       "      <td>8.1</td>\n",
       "      <td>4.75</td>\n",
       "      <td>3.811766</td>\n",
       "      <td>0.938234</td>\n",
       "    </tr>\n",
       "    <tr>\n",
       "      <th>5</th>\n",
       "      <td>5.3</td>\n",
       "      <td>6.1</td>\n",
       "      <td>2.75</td>\n",
       "      <td>3.631590</td>\n",
       "      <td>-0.881590</td>\n",
       "    </tr>\n",
       "    <tr>\n",
       "      <th>6</th>\n",
       "      <td>8.0</td>\n",
       "      <td>6.6</td>\n",
       "      <td>2.25</td>\n",
       "      <td>4.042582</td>\n",
       "      <td>-1.792582</td>\n",
       "    </tr>\n",
       "    <tr>\n",
       "      <th>7</th>\n",
       "      <td>5.4</td>\n",
       "      <td>6.6</td>\n",
       "      <td>3.75</td>\n",
       "      <td>3.535134</td>\n",
       "      <td>0.214866</td>\n",
       "    </tr>\n",
       "    <tr>\n",
       "      <th>8</th>\n",
       "      <td>7.1</td>\n",
       "      <td>7.7</td>\n",
       "      <td>2.00</td>\n",
       "      <td>3.611786</td>\n",
       "      <td>-1.611786</td>\n",
       "    </tr>\n",
       "    <tr>\n",
       "      <th>9</th>\n",
       "      <td>7.5</td>\n",
       "      <td>6.9</td>\n",
       "      <td>4.00</td>\n",
       "      <td>3.875412</td>\n",
       "      <td>0.124588</td>\n",
       "    </tr>\n",
       "    <tr>\n",
       "      <th>10</th>\n",
       "      <td>7.3</td>\n",
       "      <td>7.9</td>\n",
       "      <td>5.00</td>\n",
       "      <td>3.604431</td>\n",
       "      <td>1.395569</td>\n",
       "    </tr>\n",
       "    <tr>\n",
       "      <th>11</th>\n",
       "      <td>7.2</td>\n",
       "      <td>7.6</td>\n",
       "      <td>2.50</td>\n",
       "      <td>3.654498</td>\n",
       "      <td>-1.154498</td>\n",
       "    </tr>\n",
       "    <tr>\n",
       "      <th>12</th>\n",
       "      <td>6.1</td>\n",
       "      <td>6.8</td>\n",
       "      <td>5.25</td>\n",
       "      <td>3.625365</td>\n",
       "      <td>1.624635</td>\n",
       "    </tr>\n",
       "    <tr>\n",
       "      <th>13</th>\n",
       "      <td>6.8</td>\n",
       "      <td>7.5</td>\n",
       "      <td>4.25</td>\n",
       "      <td>3.599623</td>\n",
       "      <td>0.650377</td>\n",
       "    </tr>\n",
       "    <tr>\n",
       "      <th>14</th>\n",
       "      <td>4.1</td>\n",
       "      <td>4.3</td>\n",
       "      <td>5.00</td>\n",
       "      <td>3.814887</td>\n",
       "      <td>1.185113</td>\n",
       "    </tr>\n",
       "    <tr>\n",
       "      <th>15</th>\n",
       "      <td>5.2</td>\n",
       "      <td>6.1</td>\n",
       "      <td>1.50</td>\n",
       "      <td>3.612073</td>\n",
       "      <td>-2.112073</td>\n",
       "    </tr>\n",
       "    <tr>\n",
       "      <th>16</th>\n",
       "      <td>8.6</td>\n",
       "      <td>9.4</td>\n",
       "      <td>4.75</td>\n",
       "      <td>3.510235</td>\n",
       "      <td>1.239765</td>\n",
       "    </tr>\n",
       "    <tr>\n",
       "      <th>17</th>\n",
       "      <td>8.2</td>\n",
       "      <td>8.6</td>\n",
       "      <td>6.50</td>\n",
       "      <td>3.617723</td>\n",
       "      <td>2.882277</td>\n",
       "    </tr>\n",
       "    <tr>\n",
       "      <th>18</th>\n",
       "      <td>7.7</td>\n",
       "      <td>6.0</td>\n",
       "      <td>2.25</td>\n",
       "      <td>4.123198</td>\n",
       "      <td>-1.873198</td>\n",
       "    </tr>\n",
       "    <tr>\n",
       "      <th>19</th>\n",
       "      <td>6.5</td>\n",
       "      <td>6.9</td>\n",
       "      <td>2.50</td>\n",
       "      <td>3.680239</td>\n",
       "      <td>-1.180239</td>\n",
       "    </tr>\n",
       "  </tbody>\n",
       "</table>\n",
       "</div>"
      ],
      "text/plain": [
       "    T5_test  T6_test  y_test  y_test_predicted  Residual\n",
       "0       8.5      8.3    3.75          3.745859  0.004141\n",
       "1       5.8      3.7    4.75          4.285848  0.464152\n",
       "2       6.8      9.0    3.50          3.251703  0.248297\n",
       "3       4.0      5.5    5.75          3.517034  2.232966\n",
       "4       8.6      8.1    4.75          3.811766  0.938234\n",
       "5       5.3      6.1    2.75          3.631590 -0.881590\n",
       "6       8.0      6.6    2.25          4.042582 -1.792582\n",
       "7       5.4      6.6    3.75          3.535134  0.214866\n",
       "8       7.1      7.7    2.00          3.611786 -1.611786\n",
       "9       7.5      6.9    4.00          3.875412  0.124588\n",
       "10      7.3      7.9    5.00          3.604431  1.395569\n",
       "11      7.2      7.6    2.50          3.654498 -1.154498\n",
       "12      6.1      6.8    5.25          3.625365  1.624635\n",
       "13      6.8      7.5    4.25          3.599623  0.650377\n",
       "14      4.1      4.3    5.00          3.814887  1.185113\n",
       "15      5.2      6.1    1.50          3.612073 -2.112073\n",
       "16      8.6      9.4    4.75          3.510235  1.239765\n",
       "17      8.2      8.6    6.50          3.617723  2.882277\n",
       "18      7.7      6.0    2.25          4.123198 -1.873198\n",
       "19      6.5      6.9    2.50          3.680239 -1.180239"
      ]
     },
     "execution_count": 316,
     "metadata": {},
     "output_type": "execute_result"
    }
   ],
   "source": [
    "import pandas as pd\n",
    "y_test_pred = model.predict(X_test)\n",
    "dfTestValidation = pd.DataFrame(list(zip(X_test[:,0], X_test[:,1], y_test.flatten(),y_test_pred.flatten())),columns=['T5_test','T6_test','y_test','y_test_predicted'])\n",
    "dfTestValidation['Residual'] = dfTestValidation['y_test'] - dfTestValidation['y_test_predicted']\n",
    "dfTestValidation"
   ]
  },
  {
   "cell_type": "code",
   "execution_count": 317,
   "metadata": {},
   "outputs": [
    {
     "data": {
      "image/png": "[encoded data removed]",
      "text/plain": [
       "<Figure size 640x480 with 4 Axes>"
      ]
     },
     "metadata": {},
     "output_type": "display_data"
    }
   ],
   "source": [
    "fig, axes = plt.subplots(2, 2)\n",
    "sns.scatterplot(data=dfTestValidation, x=\"T5_test\", y=\"Residual\", ax=axes[1,0])\n",
    "sns.lineplot(data=dfTestValidation, x=\"T5_test\",y=[0]*len(dfTestValidation),color=\"r\", ax=axes[1,0])\n",
    "sns.scatterplot(data=dfTestValidation, x=\"T6_test\", y=\"Residual\", ax=axes[1,1])\n",
    "plt.show()"
   ]
  },
  {
   "cell_type": "markdown",
   "metadata": {},
   "source": [
    "<h1>Cách 4 Dùng histogram plot</h1>"
   ]
  },
  {
   "cell_type": "code",
   "execution_count": 318,
   "metadata": {},
   "outputs": [
    {
     "data": {
      "image/png": "[encoded data removed]",
      "text/plain": [
       "<Figure size 640x480 with 1 Axes>"
      ]
     },
     "metadata": {},
     "output_type": "display_data"
    }
   ],
   "source": [
    "sns.histplot(data=dfTestValidation, x=\"y_test\", color=\"skyblue\",label=\"Actual\", kde=True)\n",
    "sns.histplot(data=dfTestValidation, x=\"y_test_predicted\", color=\"red\",label=\"Forecast\", kde=True)\n",
    "plt.show()"
   ]
  },
  {
   "cell_type": "markdown",
   "metadata": {},
   "source": [
    "Mô hình trên không tốt do đường đỏ và xanh không gần khớp với nhau\n",
    "Cả 2 phải đi gần giống như nhau mới tốt"
   ]
  },
  {
   "cell_type": "code",
   "execution_count": null,
   "metadata": {},
   "outputs": [],
   "source": [
    "#underfitting: Mô hình có giá trị Bias ( error ) cao"
   ]
  },
  {
   "cell_type": "code",
   "execution_count": 321,
   "metadata": {},
   "outputs": [
    {
     "data": {
      "text/html": [
       "<div>\n",
       "<style scoped>\n",
       "    .dataframe tbody tr th:only-of-type {\n",
       "        vertical-align: middle;\n",
       "    }\n",
       "\n",
       "    .dataframe tbody tr th {\n",
       "        vertical-align: top;\n",
       "    }\n",
       "\n",
       "    .dataframe thead th {\n",
       "        text-align: right;\n",
       "    }\n",
       "</style>\n",
       "<table border=\"1\" class=\"dataframe\">\n",
       "  <thead>\n",
       "    <tr style=\"text-align: right;\">\n",
       "      <th></th>\n",
       "      <th>T5_test</th>\n",
       "      <th>T6_test</th>\n",
       "      <th>y_train</th>\n",
       "      <th>y_train_predicted</th>\n",
       "      <th>Residual</th>\n",
       "    </tr>\n",
       "  </thead>\n",
       "  <tbody>\n",
       "    <tr>\n",
       "      <th>0</th>\n",
       "      <td>5.5</td>\n",
       "      <td>5.7</td>\n",
       "      <td>5.25</td>\n",
       "      <td>3.763403</td>\n",
       "      <td>1.486597</td>\n",
       "    </tr>\n",
       "    <tr>\n",
       "      <th>1</th>\n",
       "      <td>8.5</td>\n",
       "      <td>7.8</td>\n",
       "      <td>1.50</td>\n",
       "      <td>3.861832</td>\n",
       "      <td>-2.361832</td>\n",
       "    </tr>\n",
       "    <tr>\n",
       "      <th>2</th>\n",
       "      <td>8.9</td>\n",
       "      <td>8.5</td>\n",
       "      <td>6.25</td>\n",
       "      <td>3.777539</td>\n",
       "      <td>2.472461</td>\n",
       "    </tr>\n",
       "    <tr>\n",
       "      <th>3</th>\n",
       "      <td>4.9</td>\n",
       "      <td>6.5</td>\n",
       "      <td>1.00</td>\n",
       "      <td>3.460742</td>\n",
       "      <td>-2.460742</td>\n",
       "    </tr>\n",
       "    <tr>\n",
       "      <th>4</th>\n",
       "      <td>8.0</td>\n",
       "      <td>7.2</td>\n",
       "      <td>4.50</td>\n",
       "      <td>3.903414</td>\n",
       "      <td>0.596586</td>\n",
       "    </tr>\n",
       "    <tr>\n",
       "      <th>...</th>\n",
       "      <td>...</td>\n",
       "      <td>...</td>\n",
       "      <td>...</td>\n",
       "      <td>...</td>\n",
       "      <td>...</td>\n",
       "    </tr>\n",
       "    <tr>\n",
       "      <th>75</th>\n",
       "      <td>6.3</td>\n",
       "      <td>8.0</td>\n",
       "      <td>4.50</td>\n",
       "      <td>3.386064</td>\n",
       "      <td>1.113936</td>\n",
       "    </tr>\n",
       "    <tr>\n",
       "      <th>76</th>\n",
       "      <td>8.4</td>\n",
       "      <td>8.1</td>\n",
       "      <td>3.75</td>\n",
       "      <td>3.772731</td>\n",
       "      <td>-0.022731</td>\n",
       "    </tr>\n",
       "    <tr>\n",
       "      <th>77</th>\n",
       "      <td>5.0</td>\n",
       "      <td>5.1</td>\n",
       "      <td>2.00</td>\n",
       "      <td>3.804985</td>\n",
       "      <td>-1.804985</td>\n",
       "    </tr>\n",
       "    <tr>\n",
       "      <th>78</th>\n",
       "      <td>3.5</td>\n",
       "      <td>5.6</td>\n",
       "      <td>2.25</td>\n",
       "      <td>3.396253</td>\n",
       "      <td>-1.146253</td>\n",
       "    </tr>\n",
       "    <tr>\n",
       "      <th>79</th>\n",
       "      <td>8.8</td>\n",
       "      <td>8.5</td>\n",
       "      <td>4.00</td>\n",
       "      <td>3.758022</td>\n",
       "      <td>0.241978</td>\n",
       "    </tr>\n",
       "  </tbody>\n",
       "</table>\n",
       "<p>80 rows × 5 columns</p>\n",
       "</div>"
      ],
      "text/plain": [
       "    T5_test  T6_test  y_train  y_train_predicted  Residual\n",
       "0       5.5      5.7     5.25           3.763403  1.486597\n",
       "1       8.5      7.8     1.50           3.861832 -2.361832\n",
       "2       8.9      8.5     6.25           3.777539  2.472461\n",
       "3       4.9      6.5     1.00           3.460742 -2.460742\n",
       "4       8.0      7.2     4.50           3.903414  0.596586\n",
       "..      ...      ...      ...                ...       ...\n",
       "75      6.3      8.0     4.50           3.386064  1.113936\n",
       "76      8.4      8.1     3.75           3.772731 -0.022731\n",
       "77      5.0      5.1     2.00           3.804985 -1.804985\n",
       "78      3.5      5.6     2.25           3.396253 -1.146253\n",
       "79      8.8      8.5     4.00           3.758022  0.241978\n",
       "\n",
       "[80 rows x 5 columns]"
      ]
     },
     "execution_count": 321,
     "metadata": {},
     "output_type": "execute_result"
    }
   ],
   "source": [
    "import pandas as pd\n",
    "y_train_pred = model.predict(X_train)\n",
    "dfTestValidation = pd.DataFrame(list(zip(X_train[:,0], X_train[:,1], y_train.flatten(),y_train_pred.flatten())),columns=['T5_test','T6_test','y_train','y_train_predicted'])\n",
    "dfTestValidation['Residual'] = dfTestValidation['y_train'] - dfTestValidation['y_train_predicted']\n",
    "dfTestValidation"
   ]
  },
  {
   "cell_type": "code",
   "execution_count": 323,
   "metadata": {},
   "outputs": [
    {
     "data": {
      "image/png": "[encoded data removed]",
      "text/plain": [
       "<Figure size 640x480 with 4 Axes>"
      ]
     },
     "metadata": {},
     "output_type": "display_data"
    }
   ],
   "source": [
    "fig, axes = plt.subplots(2, 2)\n",
    "sns.scatterplot(data=dfTestValidation, x=\"T5_test\", y=\"Residual\", ax=axes[1,0])\n",
    "sns.lineplot(data=dfTestValidation, x=\"T5_test\",y=[0]*len(dfTestValidation),color=\"r\", ax=axes[1,0])\n",
    "sns.scatterplot(data=dfTestValidation, x=\"T6_test\", y=\"Residual\", ax=axes[1,1])\n",
    "plt.show()"
   ]
  },
  {
   "cell_type": "code",
   "execution_count": 326,
   "metadata": {},
   "outputs": [
    {
     "data": {
      "image/png": "[encoded data removed]",
      "text/plain": [
       "<Figure size 640x480 with 1 Axes>"
      ]
     },
     "metadata": {},
     "output_type": "display_data"
    }
   ],
   "source": [
    "sns.histplot(data=dfTestValidation, x=\"y_train\", color=\"skyblue\",label=\"Actual\", kde=True)\n",
    "sns.histplot(data=dfTestValidation, x=\"y_train_predicted\", color=\"red\",label=\"Forecast\", kde=True)\n",
    "plt.show()"
   ]
  },
  {
   "cell_type": "code",
   "execution_count": null,
   "metadata": {},
   "outputs": [],
   "source": [
    "#train có Bias cao và tập test có bias: Underfitting\n",
    "#train có bias thấp và test bias thấp: Fitting\n",
    "#Train có variance cao và test có bias cao: OverFitting\n",
    "\n",
    "#Mô hình máy học tốt: Bias thấp và Variance thấp\n",
    "#Bias thấp có nghĩa là lỗi thấp\n",
    "#Variance thấp có nghĩa là sự chi tiết thấp ( đa dạng thấp) hay sự tổng quát cao"
   ]
  },
  {
   "cell_type": "code",
   "execution_count": 328,
   "metadata": {},
   "outputs": [
    {
     "name": "stdout",
     "output_type": "stream",
     "text": [
      "Du bao diem thi NGONNGU la [[3.43783439]]\n"
     ]
    }
   ],
   "source": [
    "import pickle\n",
    "pickle.dump(model, open('model_dubao_ngonngu.sav','wb'))\n",
    "\n",
    "#Load model tu storage\n",
    "loaded_model = pickle.load(open('model_dubao_ngonngu.sav','rb'))\n",
    "\n",
    "vT5 = float(input('Nhap T5:'))\n",
    "vT6 = float(input('Nhap T6:'))\n",
    "\n",
    "predicted_vlogic = loaded_model.predict([[vT5, vT6]])\n",
    "\n",
    "print(f'Du bao diem thi NGONNGU la {predicted_vlogic}')"
   ]
  },
  {
   "cell_type": "code",
   "execution_count": null,
   "metadata": {},
   "outputs": [],
   "source": [
    "# dựa trên các điểm thi đánh giá năng lực\n",
    "# hãy phán đoán xem sinh viên có định hướng nghề nghiệp\n",
    "# hay chưa được định hướng nghề nghiệp"
   ]
  },
  {
   "cell_type": "code",
   "execution_count": 329,
   "metadata": {},
   "outputs": [],
   "source": [
    "import pandas as pd\n",
    "import numpy as np\n",
    "import matplotlib.pyplot as plt"
   ]
  },
  {
   "cell_type": "code",
   "execution_count": 330,
   "metadata": {},
   "outputs": [],
   "source": [
    "df = pd.read_csv('DataLT/dulieuxettuyendaihoc.csv', header=0, delimiter=',', encoding='utf-8')"
   ]
  },
  {
   "cell_type": "code",
   "execution_count": 331,
   "metadata": {},
   "outputs": [],
   "source": [
    "df = df[['NGONNGU', 'TOANLOGICPHANTICH','GIAIQUYETVANDE','DINHHUONGNGHENGHIEP']]"
   ]
  },
  {
   "cell_type": "code",
   "execution_count": 332,
   "metadata": {},
   "outputs": [],
   "source": [
    "df.rename(columns={'TOANLOGICPHANTICH' : 'LOGIC', 'GIAIQUYETVANDE':'UNGXU','DINHHUONGNGHENGHIEP': 'DINHHUONG'},inplace=True)"
   ]
  },
  {
   "cell_type": "code",
   "execution_count": 333,
   "metadata": {},
   "outputs": [
    {
     "data": {
      "text/html": [
       "<div>\n",
       "<style scoped>\n",
       "    .dataframe tbody tr th:only-of-type {\n",
       "        vertical-align: middle;\n",
       "    }\n",
       "\n",
       "    .dataframe tbody tr th {\n",
       "        vertical-align: top;\n",
       "    }\n",
       "\n",
       "    .dataframe thead th {\n",
       "        text-align: right;\n",
       "    }\n",
       "</style>\n",
       "<table border=\"1\" class=\"dataframe\">\n",
       "  <thead>\n",
       "    <tr style=\"text-align: right;\">\n",
       "      <th></th>\n",
       "      <th>NGONNGU</th>\n",
       "      <th>LOGIC</th>\n",
       "      <th>UNGXU</th>\n",
       "      <th>Yes</th>\n",
       "    </tr>\n",
       "  </thead>\n",
       "  <tbody>\n",
       "    <tr>\n",
       "      <th>0</th>\n",
       "      <td>3.25</td>\n",
       "      <td>3.25</td>\n",
       "      <td>4.50</td>\n",
       "      <td>0</td>\n",
       "    </tr>\n",
       "    <tr>\n",
       "      <th>1</th>\n",
       "      <td>6.00</td>\n",
       "      <td>4.00</td>\n",
       "      <td>3.50</td>\n",
       "      <td>1</td>\n",
       "    </tr>\n",
       "    <tr>\n",
       "      <th>2</th>\n",
       "      <td>5.00</td>\n",
       "      <td>6.75</td>\n",
       "      <td>4.00</td>\n",
       "      <td>0</td>\n",
       "    </tr>\n",
       "    <tr>\n",
       "      <th>3</th>\n",
       "      <td>4.25</td>\n",
       "      <td>4.25</td>\n",
       "      <td>5.25</td>\n",
       "      <td>0</td>\n",
       "    </tr>\n",
       "    <tr>\n",
       "      <th>4</th>\n",
       "      <td>4.25</td>\n",
       "      <td>4.50</td>\n",
       "      <td>5.00</td>\n",
       "      <td>0</td>\n",
       "    </tr>\n",
       "  </tbody>\n",
       "</table>\n",
       "</div>"
      ],
      "text/plain": [
       "   NGONNGU  LOGIC  UNGXU  Yes\n",
       "0     3.25   3.25   4.50    0\n",
       "1     6.00   4.00   3.50    1\n",
       "2     5.00   6.75   4.00    0\n",
       "3     4.25   4.25   5.25    0\n",
       "4     4.25   4.50   5.00    0"
      ]
     },
     "execution_count": 333,
     "metadata": {},
     "output_type": "execute_result"
    }
   ],
   "source": [
    "dinhhuong = pd.get_dummies(df['DINHHUONG'], drop_first=True)\n",
    "df.drop('DINHHUONG', axis=1, inplace=True)\n",
    "df=pd.concat([df,dinhhuong], axis=1)\n",
    "df.head(5)"
   ]
  },
  {
   "cell_type": "code",
   "execution_count": 334,
   "metadata": {},
   "outputs": [],
   "source": [
    "X= df[['NGONNGU', 'LOGIC', 'UNGXU']].values #input\n",
    "y= df[['Yes']].values #output"
   ]
  },
  {
   "cell_type": "code",
   "execution_count": 335,
   "metadata": {},
   "outputs": [],
   "source": [
    "from sklearn.model_selection import train_test_split\n",
    "X_train, X_test, y_train, y_test= train_test_split(X,y,test_size=0.2, random_state=16)"
   ]
  },
  {
   "cell_type": "code",
   "execution_count": 336,
   "metadata": {},
   "outputs": [
    {
     "ename": "NameError",
     "evalue": "name 'LogisticRegression' is not defined",
     "output_type": "error",
     "traceback": [
      "\u001b[1;31m---------------------------------------------------------------------------\u001b[0m",
      "\u001b[1;31mNameError\u001b[0m                                 Traceback (most recent call last)",
      "\u001b[1;32md:\\Study\\Lập trình phân tích dữ liệu 1\\LTPTDL\\Code\\LyThuyet\\ThiCKLeeson7_1.ipynb Cell 50\u001b[0m line \u001b[0;36m3\n\u001b[0;32m      <a href='vscode-notebook-cell:/d%3A/Study/L%E1%BA%ADp%20tr%C3%ACnh%20ph%C3%A2n%20t%C3%ADch%20d%E1%BB%AF%20li%E1%BB%87u%201/LTPTDL/Code/LyThuyet/ThiCKLeeson7_1.ipynb#Y112sZmlsZQ%3D%3D?line=0'>1</a>\u001b[0m \u001b[39mfrom\u001b[39;00m \u001b[39msklearn\u001b[39;00m \u001b[39mimport\u001b[39;00m linear_model\n\u001b[1;32m----> <a href='vscode-notebook-cell:/d%3A/Study/L%E1%BA%ADp%20tr%C3%ACnh%20ph%C3%A2n%20t%C3%ADch%20d%E1%BB%AF%20li%E1%BB%87u%201/LTPTDL/Code/LyThuyet/ThiCKLeeson7_1.ipynb#Y112sZmlsZQ%3D%3D?line=2'>3</a>\u001b[0m classifier \u001b[39m=\u001b[39m LogisticRegression()\n\u001b[0;32m      <a href='vscode-notebook-cell:/d%3A/Study/L%E1%BA%ADp%20tr%C3%ACnh%20ph%C3%A2n%20t%C3%ADch%20d%E1%BB%AF%20li%E1%BB%87u%201/LTPTDL/Code/LyThuyet/ThiCKLeeson7_1.ipynb#Y112sZmlsZQ%3D%3D?line=3'>4</a>\u001b[0m classifier\u001b[39m.\u001b[39mfit(X_train, y_train)\n",
      "\u001b[1;31mNameError\u001b[0m: name 'LogisticRegression' is not defined"
     ]
    }
   ],
   "source": [
    "from sklearn import LogisticRegression\n",
    "\n",
    "classifier = LogisticRegression()\n",
    "classifier.fit(X_train, y_train)"
   ]
  }
 ],
 "metadata": {
  "kernelspec": {
   "display_name": "base",
   "language": "python",
   "name": "python3"
  },
  "language_info": {
   "codemirror_mode": {
    "name": "ipython",
    "version": 3
   },
   "file_extension": ".py",
   "mimetype": "text/x-python",
   "name": "python",
   "nbconvert_exporter": "python",
   "pygments_lexer": "ipython3",
   "version": "3.11.4"
  },
  "orig_nbformat": 4
 },
 "nbformat": 4,
 "nbformat_minor": 2
}
