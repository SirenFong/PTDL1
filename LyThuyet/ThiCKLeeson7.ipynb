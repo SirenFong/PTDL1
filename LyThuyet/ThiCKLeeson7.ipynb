{
 "cells": [
  {
   "cell_type": "markdown",
   "metadata": {},
   "source": [
    "Dẫn nhập machine learning: Dữ liệu nhiều (lớn)\n",
    "-Dựa trên dữ liệu lịch sử (Historical Data) để xây dựng mô hình (model)\n",
    "-(1)Input đi qua (2) model (Mô hình toán học) sẽ tính toán cho ra (3) output\n",
    "Các bài toán phổ biến\n",
    "\n",
    "1. Dự báo(Prediction)\n",
    "Ví dụ: Ngày mai nhiệt độ là bao nhiêu\n",
    "2. Phân lớp (Classification)\n",
    "Ví dụ: Cho biết ngày mai trời nắng hay mưa\n",
    "Ví dụ: Input điểm số toán văn output là Yes/No\n",
    "3. Gom cụm(Clustering)\n",
    "Ví dụ: Dựa vào sức mua của khách hàng, hãy phân bổ khách hàng\n",
    "4. Luật kết hợp(Association rules)\n",
    "Ví dụ: Mua sữa, tã, bánh, sẽ khuyến nghị khách mua thêm gì đó\n",
    "Xác định Input: Dữ liệu đầu vào có những gì ?\n",
    "Xác định tiếp theo Output: Mục tiêu của bài toán\n",
    "\n",
    "Các phương pháp học phổ biến\n",
    "1. Supervised (Có giám sát)\n",
    "-Trong tập dữ liệu bạn có (historical data) sẽ bao gồm input và output\n",
    "2. un-supervised (Học không giám sát)\n",
    "-Trong tập dữ liệu bạn sẽ chỉ có bao gồm input và không biết trước output\n",
    "3. semi-supervised learning (Bán giám sát)\n",
    "-Trong tập dữ liệu bạn sẽ chỉ có bao gồm input, nếu muốn có output mãu thì phải điều chế\n",
    "Quy trình xây dựng ứng dụng machine learning"
   ]
  },
  {
   "cell_type": "markdown",
   "metadata": {},
   "source": [
    "Dẫn nhập hồi quy tuyến tính\n",
    "\n",
    "Ứng dụng trong bài toán Prediction\n",
    "\n",
    "Bài toán 1: Hãy dự báo điểm T6 dựa trên T5\n",
    "Input là T5\n",
    "Output là T6"
   ]
  },
  {
   "cell_type": "code",
   "execution_count": 1,
   "metadata": {},
   "outputs": [],
   "source": [
    "import pandas as pd\n",
    "import matplotlib.pyplot as plt"
   ]
  },
  {
   "cell_type": "code",
   "execution_count": 2,
   "metadata": {},
   "outputs": [],
   "source": [
    "df = pd.read_csv('DataLT/dulieuxettuyendaihoc.csv', header=0, delimiter=',', encoding='utf-8')"
   ]
  },
  {
   "cell_type": "code",
   "execution_count": 3,
   "metadata": {},
   "outputs": [],
   "source": [
    "df = df[['T5','T6','NGONNGU', 'TOANLOGICPHANTICH','GIAIQUYETVANDE']]"
   ]
  },
  {
   "cell_type": "code",
   "execution_count": 4,
   "metadata": {},
   "outputs": [],
   "source": [
    "df.rename(columns={'TOANLOGICPHANTICH' : 'LOGIC', 'GIAIQUYETVANDE':'UNGXU'},inplace=True)"
   ]
  },
  {
   "cell_type": "code",
   "execution_count": 5,
   "metadata": {},
   "outputs": [
    {
     "data": {
      "text/html": [
       "<div>\n",
       "<style scoped>\n",
       "    .dataframe tbody tr th:only-of-type {\n",
       "        vertical-align: middle;\n",
       "    }\n",
       "\n",
       "    .dataframe tbody tr th {\n",
       "        vertical-align: top;\n",
       "    }\n",
       "\n",
       "    .dataframe thead th {\n",
       "        text-align: right;\n",
       "    }\n",
       "</style>\n",
       "<table border=\"1\" class=\"dataframe\">\n",
       "  <thead>\n",
       "    <tr style=\"text-align: right;\">\n",
       "      <th></th>\n",
       "      <th>T5</th>\n",
       "      <th>T6</th>\n",
       "    </tr>\n",
       "  </thead>\n",
       "  <tbody>\n",
       "    <tr>\n",
       "      <th>0</th>\n",
       "      <td>7.4</td>\n",
       "      <td>6.9</td>\n",
       "    </tr>\n",
       "    <tr>\n",
       "      <th>1</th>\n",
       "      <td>3.0</td>\n",
       "      <td>4.0</td>\n",
       "    </tr>\n",
       "    <tr>\n",
       "      <th>2</th>\n",
       "      <td>4.8</td>\n",
       "      <td>5.7</td>\n",
       "    </tr>\n",
       "    <tr>\n",
       "      <th>3</th>\n",
       "      <td>6.1</td>\n",
       "      <td>7.4</td>\n",
       "    </tr>\n",
       "    <tr>\n",
       "      <th>4</th>\n",
       "      <td>6.8</td>\n",
       "      <td>8.0</td>\n",
       "    </tr>\n",
       "  </tbody>\n",
       "</table>\n",
       "</div>"
      ],
      "text/plain": [
       "    T5   T6\n",
       "0  7.4  6.9\n",
       "1  3.0  4.0\n",
       "2  4.8  5.7\n",
       "3  6.1  7.4\n",
       "4  6.8  8.0"
      ]
     },
     "execution_count": 5,
     "metadata": {},
     "output_type": "execute_result"
    }
   ],
   "source": [
    "df[['T5', 'T6']].head(5)"
   ]
  },
  {
   "cell_type": "code",
   "execution_count": 6,
   "metadata": {},
   "outputs": [
    {
     "data": {
      "text/html": [
       "<div>\n",
       "<style scoped>\n",
       "    .dataframe tbody tr th:only-of-type {\n",
       "        vertical-align: middle;\n",
       "    }\n",
       "\n",
       "    .dataframe tbody tr th {\n",
       "        vertical-align: top;\n",
       "    }\n",
       "\n",
       "    .dataframe thead th {\n",
       "        text-align: right;\n",
       "    }\n",
       "</style>\n",
       "<table border=\"1\" class=\"dataframe\">\n",
       "  <thead>\n",
       "    <tr style=\"text-align: right;\">\n",
       "      <th></th>\n",
       "      <th>T5</th>\n",
       "      <th>T6</th>\n",
       "    </tr>\n",
       "  </thead>\n",
       "  <tbody>\n",
       "    <tr>\n",
       "      <th>T5</th>\n",
       "      <td>1.000000</td>\n",
       "      <td>0.778683</td>\n",
       "    </tr>\n",
       "    <tr>\n",
       "      <th>T6</th>\n",
       "      <td>0.778683</td>\n",
       "      <td>1.000000</td>\n",
       "    </tr>\n",
       "  </tbody>\n",
       "</table>\n",
       "</div>"
      ],
      "text/plain": [
       "          T5        T6\n",
       "T5  1.000000  0.778683\n",
       "T6  0.778683  1.000000"
      ]
     },
     "execution_count": 6,
     "metadata": {},
     "output_type": "execute_result"
    }
   ],
   "source": [
    "df[['T5', 'T6']].corr()"
   ]
  },
  {
   "cell_type": "code",
   "execution_count": 7,
   "metadata": {},
   "outputs": [
    {
     "data": {
      "image/png": "[encoded data removed]",
      "text/plain": [
       "<Figure size 640x480 with 1 Axes>"
      ]
     },
     "metadata": {},
     "output_type": "display_data"
    }
   ],
   "source": [
    "plt.plot(df[['T5']][0:5], df[['T6']][0:5], 'ro')\n",
    "plt.show()"
   ]
  },
  {
   "cell_type": "code",
   "execution_count": 8,
   "metadata": {},
   "outputs": [],
   "source": [
    "#Bài toán 2: Hãy dự báo điểm thi đánh giá năng lực phần LOGIC\n",
    "#dựa trên điểm trung bình toán\n",
    "#học kì 1 và 2 năm lớp 12"
   ]
  },
  {
   "cell_type": "code",
   "execution_count": 9,
   "metadata": {},
   "outputs": [],
   "source": [
    "#Xây dựng mô hình machine learning \n",
    "#Bước 1: xác định bài toán\n",
    "#Bước 2: xác định input và output\n",
    "#Bước 3:Xác định mô hình sử dụng\n",
    "#Bước 4:Chia tập dữ liệu thành 2: training và testing theo tỉ lệ 80% và 20%\n",
    "#Bước 5: Huấn luyện mô hình trên tập training \n",
    "#Bước 6: đánh giá mô hình: trên tập training và tập test\n",
    "#Bước 7:Triển khai mô hình\n",
    "#Chọn mô hình hôi quy tuyến tính\n",
    "#LOGIC = f(T5,T6) = A0 + A1*T5 + A2*T6 + epsilon\n",
    "\n",
    "#Tập dữ liệu\n",
    "X= df[['T5', 'T6']].values #input\n",
    "y= df[['NGONNGU']].values #output"
   ]
  },
  {
   "cell_type": "code",
   "execution_count": 10,
   "metadata": {},
   "outputs": [],
   "source": [
    "#Chia tách ra training và testing\n",
    "#Chú ý random_state để thay đổi khi đi thi\n",
    "from sklearn.model_selection import train_test_split\n",
    "X_train, X_test, y_train, y_test= train_test_split(X,y,test_size=0.1, random_state=10)"
   ]
  },
  {
   "cell_type": "code",
   "execution_count": 11,
   "metadata": {},
   "outputs": [
    {
     "data": {
      "text/html": [
       "<style>#sk-container-id-1 {color: black;}#sk-container-id-1 pre{padding: 0;}#sk-container-id-1 div.sk-toggleable {background-color: white;}#sk-container-id-1 label.sk-toggleable__label {cursor: pointer;display: block;width: 100%;margin-bottom: 0;padding: 0.3em;box-sizing: border-box;text-align: center;}#sk-container-id-1 label.sk-toggleable__label-arrow:before {content: \"▸\";float: left;margin-right: 0.25em;color: #696969;}#sk-container-id-1 label.sk-toggleable__label-arrow:hover:before {color: black;}#sk-container-id-1 div.sk-estimator:hover label.sk-toggleable__label-arrow:before {color: black;}#sk-container-id-1 div.sk-toggleable__content {max-height: 0;max-width: 0;overflow: hidden;text-align: left;background-color: #f0f8ff;}#sk-container-id-1 div.sk-toggleable__content pre {margin: 0.2em;color: black;border-radius: 0.25em;background-color: #f0f8ff;}#sk-container-id-1 input.sk-toggleable__control:checked~div.sk-toggleable__content {max-height: 200px;max-width: 100%;overflow: auto;}#sk-container-id-1 input.sk-toggleable__control:checked~label.sk-toggleable__label-arrow:before {content: \"▾\";}#sk-container-id-1 div.sk-estimator input.sk-toggleable__control:checked~label.sk-toggleable__label {background-color: #d4ebff;}#sk-container-id-1 div.sk-label input.sk-toggleable__control:checked~label.sk-toggleable__label {background-color: #d4ebff;}#sk-container-id-1 input.sk-hidden--visually {border: 0;clip: rect(1px 1px 1px 1px);clip: rect(1px, 1px, 1px, 1px);height: 1px;margin: -1px;overflow: hidden;padding: 0;position: absolute;width: 1px;}#sk-container-id-1 div.sk-estimator {font-family: monospace;background-color: #f0f8ff;border: 1px dotted black;border-radius: 0.25em;box-sizing: border-box;margin-bottom: 0.5em;}#sk-container-id-1 div.sk-estimator:hover {background-color: #d4ebff;}#sk-container-id-1 div.sk-parallel-item::after {content: \"\";width: 100%;border-bottom: 1px solid gray;flex-grow: 1;}#sk-container-id-1 div.sk-label:hover label.sk-toggleable__label {background-color: #d4ebff;}#sk-container-id-1 div.sk-serial::before {content: \"\";position: absolute;border-left: 1px solid gray;box-sizing: border-box;top: 0;bottom: 0;left: 50%;z-index: 0;}#sk-container-id-1 div.sk-serial {display: flex;flex-direction: column;align-items: center;background-color: white;padding-right: 0.2em;padding-left: 0.2em;position: relative;}#sk-container-id-1 div.sk-item {position: relative;z-index: 1;}#sk-container-id-1 div.sk-parallel {display: flex;align-items: stretch;justify-content: center;background-color: white;position: relative;}#sk-container-id-1 div.sk-item::before, #sk-container-id-1 div.sk-parallel-item::before {content: \"\";position: absolute;border-left: 1px solid gray;box-sizing: border-box;top: 0;bottom: 0;left: 50%;z-index: -1;}#sk-container-id-1 div.sk-parallel-item {display: flex;flex-direction: column;z-index: 1;position: relative;background-color: white;}#sk-container-id-1 div.sk-parallel-item:first-child::after {align-self: flex-end;width: 50%;}#sk-container-id-1 div.sk-parallel-item:last-child::after {align-self: flex-start;width: 50%;}#sk-container-id-1 div.sk-parallel-item:only-child::after {width: 0;}#sk-container-id-1 div.sk-dashed-wrapped {border: 1px dashed gray;margin: 0 0.4em 0.5em 0.4em;box-sizing: border-box;padding-bottom: 0.4em;background-color: white;}#sk-container-id-1 div.sk-label label {font-family: monospace;font-weight: bold;display: inline-block;line-height: 1.2em;}#sk-container-id-1 div.sk-label-container {text-align: center;}#sk-container-id-1 div.sk-container {/* jupyter's `normalize.less` sets `[hidden] { display: none; }` but bootstrap.min.css set `[hidden] { display: none !important; }` so we also need the `!important` here to be able to override the default hidden behavior on the sphinx rendered scikit-learn.org. See: https://github.com/scikit-learn/scikit-learn/issues/21755 */display: inline-block !important;position: relative;}#sk-container-id-1 div.sk-text-repr-fallback {display: none;}</style><div id=\"sk-container-id-1\" class=\"sk-top-container\"><div class=\"sk-text-repr-fallback\"><pre>LinearRegression()</pre><b>In a Jupyter environment, please rerun this cell to show the HTML representation or trust the notebook. <br />On GitHub, the HTML representation is unable to render, please try loading this page with nbviewer.org.</b></div><div class=\"sk-container\" hidden><div class=\"sk-item\"><div class=\"sk-estimator sk-toggleable\"><input class=\"sk-toggleable__control sk-hidden--visually\" id=\"sk-estimator-id-1\" type=\"checkbox\" checked><label for=\"sk-estimator-id-1\" class=\"sk-toggleable__label sk-toggleable__label-arrow\">LinearRegression</label><div class=\"sk-toggleable__content\"><pre>LinearRegression()</pre></div></div></div></div></div>"
      ],
      "text/plain": [
       "LinearRegression()"
      ]
     },
     "execution_count": 11,
     "metadata": {},
     "output_type": "execute_result"
    }
   ],
   "source": [
    "#Mô hình hồi quy tuyến tính đa biến\n",
    "#LOGIC = A0 +A1*T5 + A2*T6 + epsilon\n",
    "from sklearn import linear_model\n",
    "\n",
    "model = linear_model.LinearRegression()\n",
    "model.fit(X_train, y_train)"
   ]
  },
  {
   "cell_type": "code",
   "execution_count": 12,
   "metadata": {},
   "outputs": [
    {
     "name": "stdout",
     "output_type": "stream",
     "text": [
      "[4.39741865]\n",
      "[[ 0.10398249 -0.18448996]]\n"
     ]
    }
   ],
   "source": [
    "#To retrive the intercept_\n",
    "print(model.intercept_)\n",
    "\n",
    "#For retriving the slope ( coefficient)\n",
    "print(model.coef_)\n",
    "#NGONNGU = 4.39 + 0.1 + T5 - 0.18 + T6"
   ]
  },
  {
   "cell_type": "code",
   "execution_count": 13,
   "metadata": {},
   "outputs": [],
   "source": [
    "pd.DataFrame(X_test).to_csv(\"DataLT/input_test.csv\")"
   ]
  },
  {
   "cell_type": "code",
   "execution_count": 14,
   "metadata": {},
   "outputs": [],
   "source": [
    "pd.DataFrame(y_test).to_csv(\"DataLT/output_test.csv\")"
   ]
  },
  {
   "cell_type": "code",
   "execution_count": 15,
   "metadata": {},
   "outputs": [
    {
     "data": {
      "text/plain": [
       "array([[3.49373364],\n",
       "       [3.72350336],\n",
       "       [3.8935773 ],\n",
       "       [4.04754975],\n",
       "       [3.9536193 ],\n",
       "       [3.6664861 ],\n",
       "       [3.87646757],\n",
       "       [3.74429986],\n",
       "       [3.9304753 ],\n",
       "       [3.77650285]])"
      ]
     },
     "execution_count": 15,
     "metadata": {},
     "output_type": "execute_result"
    }
   ],
   "source": [
    "#Tính toán giá trị điểm thi LOGIC dựa trên mô hình\n",
    "import numpy as np\n",
    "from sklearn import metrics\n",
    "\n",
    "y_test_pred = model.predict(X_test)\n",
    "y_test_pred"
   ]
  },
  {
   "cell_type": "code",
   "execution_count": 16,
   "metadata": {},
   "outputs": [],
   "source": [
    "pd.DataFrame(y_test_pred).to_csv(\"output_test_pred.csv\")"
   ]
  },
  {
   "cell_type": "code",
   "execution_count": 17,
   "metadata": {},
   "outputs": [
    {
     "name": "stdout",
     "output_type": "stream",
     "text": [
      "Mean absolute Error: 0.9389937231855783\n",
      "Mean squared Error: 1.7926269097774998\n",
      "Root Mean squared Error: 0.9690168848815681\n",
      "Score: -0.7531803518606357\n"
     ]
    }
   ],
   "source": [
    "#Càng nhỏ càng tốt\n",
    "print(\"Mean absolute Error:\" , metrics.mean_absolute_error(y_test, y_test_pred))\n",
    "print(\"Mean squared Error:\" , metrics.mean_squared_error(y_test, y_test_pred))\n",
    "print(\"Root Mean squared Error:\" , np.sqrt(metrics.mean_absolute_error(y_test, y_test_pred)))\n",
    "\n",
    "#Càng lớn càng tốt\n",
    "print(\"Score:\" , model.score(X_test, y_test))\n"
   ]
  },
  {
   "cell_type": "code",
   "execution_count": 18,
   "metadata": {},
   "outputs": [
    {
     "data": {
      "image/png": "[encoded data removed]",
      "text/plain": [
       "<Figure size 1000x1000 with 1 Axes>"
      ]
     },
     "metadata": {},
     "output_type": "display_data"
    }
   ],
   "source": [
    "plt.figure(figsize=(10,10))\n",
    "plt.scatter(y_test, y_test_pred, c='crimson')\n",
    "plt.yscale('log')\n",
    "plt.xscale('log')\n",
    "\n",
    "p1=max(max(y_test_pred), max(y_test))\n",
    "p2=min(min(y_test_pred), min(y_test))\n",
    "plt.plot([p1,p2], [p1,p2], 'b-')\n",
    "plt.xlabel('True values', fontsize=15)\n",
    "plt.ylabel('Predictions', fontsize=15)\n",
    "plt.axis('equal')\n",
    "plt.show()"
   ]
  },
  {
   "cell_type": "code",
   "execution_count": 19,
   "metadata": {},
   "outputs": [],
   "source": [
    "import pickle\n",
    "pickle.dump(model, open('DataLT/model_dubao_ngonngu.sav','wb'))"
   ]
  },
  {
   "cell_type": "code",
   "execution_count": 20,
   "metadata": {},
   "outputs": [
    {
     "name": "stdout",
     "output_type": "stream",
     "text": [
      "Du bao diem thi NGONNGU la [[3.97140626]]\n"
     ]
    }
   ],
   "source": [
    "#Xây dựng ctrinh: Nhập điểm T5, T6 từ bàn phím\n",
    "\n",
    "import pickle\n",
    "#Load model tu storage\n",
    "loaded_model = pickle.load(open('DataLT/model_dubao_ngonngu.sav','rb'))\n",
    "\n",
    "vT5 = float(input('Nhap T5:'))\n",
    "vT6 = float(input('Nhap T6:'))\n",
    "\n",
    "predicted_vlogic = loaded_model.predict([[vT5, vT6]])\n",
    "\n",
    "print(f'Du bao diem thi NGONNGU la {predicted_vlogic}')"
   ]
  },
  {
   "cell_type": "code",
   "execution_count": 21,
   "metadata": {},
   "outputs": [],
   "source": [
    "# AI pipepline 2\n",
    "#Tập dữ liệu\n",
    "X= df[['T5', 'T6']].values #input\n",
    "y= df[['NGONNGU']].values #output"
   ]
  },
  {
   "cell_type": "code",
   "execution_count": 22,
   "metadata": {},
   "outputs": [],
   "source": [
    "from sklearn.preprocessing import MinMaxScaler\n",
    "sc = MinMaxScaler()\n",
    "X = sc.fit_transform(X)"
   ]
  },
  {
   "cell_type": "code",
   "execution_count": 23,
   "metadata": {},
   "outputs": [],
   "source": [
    "#Chú ý random_state để thay đổi khi đi thi\n",
    "from sklearn.model_selection import train_test_split\n",
    "X_train, X_test, y_train, y_test= train_test_split(X,y,test_size=0.1, random_state=10)"
   ]
  },
  {
   "cell_type": "code",
   "execution_count": 24,
   "metadata": {},
   "outputs": [
    {
     "name": "stdout",
     "output_type": "stream",
     "text": [
      "[4.02675325]\n",
      "[[ 0.67588618 -1.0700418 ]]\n"
     ]
    }
   ],
   "source": [
    "from sklearn import linear_model\n",
    "\n",
    "model = linear_model.LinearRegression()\n",
    "model.fit(X_train, y_train)\n",
    "\n",
    "#To retrive the intercept_\n",
    "print(model.intercept_)\n",
    "\n",
    "#For retriving the slope ( coefficient)\n",
    "print(model.coef_)\n",
    "#NGONNGU = 4.39 + 0.1 + T5 - 0.18 + T6"
   ]
  },
  {
   "cell_type": "code",
   "execution_count": 25,
   "metadata": {},
   "outputs": [
    {
     "name": "stdout",
     "output_type": "stream",
     "text": [
      "Du bao diem thi NGONNGU la [[4.16763374]]\n"
     ]
    }
   ],
   "source": [
    "vT5 = 4.0\n",
    "vT6 = 3.5\n",
    "\n",
    "scaled = sc.transform([[vT5, vT6]])\n",
    "\n",
    "predicted_ngonngu = model.predict(scaled)\n",
    "\n",
    "print(f'Du bao diem thi NGONNGU la {predicted_ngonngu}')\n",
    "# scaled"
   ]
  }
 ],
 "metadata": {
  "kernelspec": {
   "display_name": "base",
   "language": "python",
   "name": "python3"
  },
  "language_info": {
   "codemirror_mode": {
    "name": "ipython",
    "version": 3
   },
   "file_extension": ".py",
   "mimetype": "text/x-python",
   "name": "python",
   "nbconvert_exporter": "python",
   "pygments_lexer": "ipython3",
   "version": "3.11.4"
  },
  "orig_nbformat": 4
 },
 "nbformat": 4,
 "nbformat_minor": 2
}
