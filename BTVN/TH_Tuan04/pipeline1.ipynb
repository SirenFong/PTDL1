{
 "cells": [
  {
   "cell_type": "code",
   "execution_count": 1,
   "metadata": {},
   "outputs": [],
   "source": [
    "import numpy as np\n",
    "import pandas as pd\n",
    "from sklearn.model_selection import train_test_split\n",
    "from sklearn.linear_model import LinearRegression\n",
    "import seaborn as sb\n",
    "from sklearn import metrics\n",
    "import matplotlib.pyplot as plt\n",
    "from sklearn.compose import TransformedTargetRegressor\n",
    "from sklearn.preprocessing import FunctionTransformer\n",
    "from sklearn.preprocessing import MinMaxScaler, PolynomialFeatures\n",
    "from sklearn.pipeline import Pipeline\n",
    "from sklearn.metrics import mean_squared_error, r2_score"
   ]
  },
  {
   "cell_type": "code",
   "execution_count": 2,
   "metadata": {},
   "outputs": [],
   "source": [
    "df = pd.read_csv('Data/boston.csv')"
   ]
  },
  {
   "cell_type": "code",
   "execution_count": 3,
   "metadata": {},
   "outputs": [
    {
     "data": {
      "text/html": [
       "<div>\n",
       "<style scoped>\n",
       "    .dataframe tbody tr th:only-of-type {\n",
       "        vertical-align: middle;\n",
       "    }\n",
       "\n",
       "    .dataframe tbody tr th {\n",
       "        vertical-align: top;\n",
       "    }\n",
       "\n",
       "    .dataframe thead th {\n",
       "        text-align: right;\n",
       "    }\n",
       "</style>\n",
       "<table border=\"1\" class=\"dataframe\">\n",
       "  <thead>\n",
       "    <tr style=\"text-align: right;\">\n",
       "      <th></th>\n",
       "      <th>CRIM</th>\n",
       "      <th>ZN</th>\n",
       "      <th>INDUS</th>\n",
       "      <th>CHAS</th>\n",
       "      <th>NOX</th>\n",
       "      <th>RM</th>\n",
       "      <th>AGE</th>\n",
       "      <th>DIS</th>\n",
       "      <th>RAD</th>\n",
       "      <th>TAX</th>\n",
       "      <th>PTRATIO</th>\n",
       "      <th>B</th>\n",
       "      <th>LSTAT</th>\n",
       "      <th>MEDV</th>\n",
       "    </tr>\n",
       "  </thead>\n",
       "  <tbody>\n",
       "    <tr>\n",
       "      <th>0</th>\n",
       "      <td>0.00632</td>\n",
       "      <td>18.0</td>\n",
       "      <td>2.31</td>\n",
       "      <td>0</td>\n",
       "      <td>0.538</td>\n",
       "      <td>6.575</td>\n",
       "      <td>65.2</td>\n",
       "      <td>4.0900</td>\n",
       "      <td>1</td>\n",
       "      <td>296.0</td>\n",
       "      <td>15.3</td>\n",
       "      <td>396.90</td>\n",
       "      <td>4.98</td>\n",
       "      <td>24.0</td>\n",
       "    </tr>\n",
       "    <tr>\n",
       "      <th>1</th>\n",
       "      <td>0.02731</td>\n",
       "      <td>0.0</td>\n",
       "      <td>7.07</td>\n",
       "      <td>0</td>\n",
       "      <td>0.469</td>\n",
       "      <td>6.421</td>\n",
       "      <td>78.9</td>\n",
       "      <td>4.9671</td>\n",
       "      <td>2</td>\n",
       "      <td>242.0</td>\n",
       "      <td>17.8</td>\n",
       "      <td>396.90</td>\n",
       "      <td>9.14</td>\n",
       "      <td>21.6</td>\n",
       "    </tr>\n",
       "    <tr>\n",
       "      <th>2</th>\n",
       "      <td>0.02729</td>\n",
       "      <td>0.0</td>\n",
       "      <td>7.07</td>\n",
       "      <td>0</td>\n",
       "      <td>0.469</td>\n",
       "      <td>7.185</td>\n",
       "      <td>61.1</td>\n",
       "      <td>4.9671</td>\n",
       "      <td>2</td>\n",
       "      <td>242.0</td>\n",
       "      <td>17.8</td>\n",
       "      <td>392.83</td>\n",
       "      <td>4.03</td>\n",
       "      <td>34.7</td>\n",
       "    </tr>\n",
       "    <tr>\n",
       "      <th>3</th>\n",
       "      <td>0.03237</td>\n",
       "      <td>0.0</td>\n",
       "      <td>2.18</td>\n",
       "      <td>0</td>\n",
       "      <td>0.458</td>\n",
       "      <td>6.998</td>\n",
       "      <td>45.8</td>\n",
       "      <td>6.0622</td>\n",
       "      <td>3</td>\n",
       "      <td>222.0</td>\n",
       "      <td>18.7</td>\n",
       "      <td>394.63</td>\n",
       "      <td>2.94</td>\n",
       "      <td>33.4</td>\n",
       "    </tr>\n",
       "    <tr>\n",
       "      <th>4</th>\n",
       "      <td>0.06905</td>\n",
       "      <td>0.0</td>\n",
       "      <td>2.18</td>\n",
       "      <td>0</td>\n",
       "      <td>0.458</td>\n",
       "      <td>7.147</td>\n",
       "      <td>54.2</td>\n",
       "      <td>6.0622</td>\n",
       "      <td>3</td>\n",
       "      <td>222.0</td>\n",
       "      <td>18.7</td>\n",
       "      <td>396.90</td>\n",
       "      <td>5.33</td>\n",
       "      <td>36.2</td>\n",
       "    </tr>\n",
       "  </tbody>\n",
       "</table>\n",
       "</div>"
      ],
      "text/plain": [
       "      CRIM    ZN  INDUS  CHAS    NOX     RM   AGE     DIS  RAD    TAX  \\\n",
       "0  0.00632  18.0   2.31     0  0.538  6.575  65.2  4.0900    1  296.0   \n",
       "1  0.02731   0.0   7.07     0  0.469  6.421  78.9  4.9671    2  242.0   \n",
       "2  0.02729   0.0   7.07     0  0.469  7.185  61.1  4.9671    2  242.0   \n",
       "3  0.03237   0.0   2.18     0  0.458  6.998  45.8  6.0622    3  222.0   \n",
       "4  0.06905   0.0   2.18     0  0.458  7.147  54.2  6.0622    3  222.0   \n",
       "\n",
       "   PTRATIO       B  LSTAT  MEDV  \n",
       "0     15.3  396.90   4.98  24.0  \n",
       "1     17.8  396.90   9.14  21.6  \n",
       "2     17.8  392.83   4.03  34.7  \n",
       "3     18.7  394.63   2.94  33.4  \n",
       "4     18.7  396.90   5.33  36.2  "
      ]
     },
     "execution_count": 3,
     "metadata": {},
     "output_type": "execute_result"
    }
   ],
   "source": [
    "df.head()"
   ]
  },
  {
   "cell_type": "code",
   "execution_count": 4,
   "metadata": {},
   "outputs": [],
   "source": [
    "X = df[['AGE', 'LSTAT']].values\n",
    "y = df['MEDV'].values"
   ]
  },
  {
   "cell_type": "code",
   "execution_count": 5,
   "metadata": {},
   "outputs": [],
   "source": [
    "\n",
    "X_train, X_test, y_train, y_test = train_test_split(X, y, test_size=0.2, random_state=16)\n",
    "\n",
    "model = LinearRegression()\n",
    "pipeline = Pipeline([\n",
    "    ('regressor', model)\n",
    "])\n",
    "\n",
    "pipeline.fit(X_train, y_train)\n",
    "y_pred = pipeline.predict(X_test)"
   ]
  },
  {
   "cell_type": "code",
   "execution_count": 6,
   "metadata": {},
   "outputs": [
    {
     "name": "stdout",
     "output_type": "stream",
     "text": [
      "R-squared (R2) for Training Data: 0.5630979953818331\n",
      "R-squared (R2) for Test Data: 0.40696769371975816\n"
     ]
    }
   ],
   "source": [
    "y_train_pred = pipeline.predict(X_train)\n",
    "r2_train = r2_score(y_train, y_train_pred)\n",
    "y_test_pred = model.predict(X_test)\n",
    "\n",
    "#R-squared\n",
    "r2_test = r2_score(y_test, y_test_pred)\n",
    "print(\"R-squared (R2) for Training Data:\", r2_train)\n",
    "print(\"R-squared (R2) for Test Data:\", r2_test)"
   ]
  },
  {
   "cell_type": "code",
   "execution_count": 7,
   "metadata": {},
   "outputs": [
    {
     "name": "stdout",
     "output_type": "stream",
     "text": [
      "Mean Absolute Error (MAE) for Training Data: 4.566213908719439\n",
      "Mean Absolute Error (MAE) for Test Data: 4.59187457150265\n"
     ]
    }
   ],
   "source": [
    "mae_test = metrics.mean_absolute_error(y_test, y_test_pred)\n",
    "mae_train =metrics.mean_absolute_error(y_train, y_train_pred)\n",
    "#MAE scores\n",
    "print(\"Mean Absolute Error (MAE) for Training Data:\", mae_train)\n",
    "print(\"Mean Absolute Error (MAE) for Test Data:\", mae_test)"
   ]
  },
  {
   "cell_type": "code",
   "execution_count": 8,
   "metadata": {},
   "outputs": [
    {
     "name": "stdout",
     "output_type": "stream",
     "text": [
      "Root Mean Squared Error (RMSE) for Training Data: 38.20805667876179\n",
      "Root Mean Squared Error (RMSE) for Test Data: 39.24693104001134\n"
     ]
    }
   ],
   "source": [
    "rmse_train = metrics.mean_squared_error(y_train,y_train_pred)\n",
    "# Calculate RMSE for the test data\n",
    "rmse_test = metrics.mean_squared_error(y_test,y_test_pred)\n",
    "\n",
    "# Print the RMSE scores\n",
    "print(\"Root Mean Squared Error (RMSE) for Training Data:\", rmse_train)\n",
    "print(\"Root Mean Squared Error (RMSE) for Test Data:\", rmse_test)"
   ]
  },
  {
   "cell_type": "code",
   "execution_count": 9,
   "metadata": {},
   "outputs": [
    {
     "name": "stdout",
     "output_type": "stream",
     "text": [
      "0.21828894529148998\n",
      "0.2547803169337024\n"
     ]
    }
   ],
   "source": [
    "mape_train = metrics.mean_absolute_percentage_error(y_train,y_train_pred)\n",
    "\n",
    "mape_test = metrics.mean_absolute_percentage_error(y_test,y_test_pred)\n",
    "print( mape_train)\n",
    "print( mape_test)"
   ]
  },
  {
   "cell_type": "code",
   "execution_count": 10,
   "metadata": {},
   "outputs": [
    {
     "data": {
      "text/plain": [
       "<Axes: >"
      ]
     },
     "execution_count": 10,
     "metadata": {},
     "output_type": "execute_result"
    },
    {
     "data": {
      "image/png": "[encoded data removed]",
      "text/plain": [
       "<Figure size 640x480 with 1 Axes>"
      ]
     },
     "metadata": {},
     "output_type": "display_data"
    }
   ],
   "source": [
    "sb.lineplot(x=y_test.flatten(), y=y_test.flatten(), marker='s', color='r')\n",
    "sb.scatterplot(x=y_test.flatten(), y=y_test_pred.flatten(), marker='o', color='b')\n"
   ]
  },
  {
   "cell_type": "code",
   "execution_count": 11,
   "metadata": {},
   "outputs": [
    {
     "data": {
      "text/html": [
       "<div>\n",
       "<style scoped>\n",
       "    .dataframe tbody tr th:only-of-type {\n",
       "        vertical-align: middle;\n",
       "    }\n",
       "\n",
       "    .dataframe tbody tr th {\n",
       "        vertical-align: top;\n",
       "    }\n",
       "\n",
       "    .dataframe thead th {\n",
       "        text-align: right;\n",
       "    }\n",
       "</style>\n",
       "<table border=\"1\" class=\"dataframe\">\n",
       "  <thead>\n",
       "    <tr style=\"text-align: right;\">\n",
       "      <th></th>\n",
       "      <th>AGE&amp;ISTAT_test</th>\n",
       "      <th>MEDV_test</th>\n",
       "      <th>y_test</th>\n",
       "      <th>y_test_predicted</th>\n",
       "      <th>Residual</th>\n",
       "    </tr>\n",
       "  </thead>\n",
       "  <tbody>\n",
       "    <tr>\n",
       "      <th>0</th>\n",
       "      <td>100.0</td>\n",
       "      <td>7.39</td>\n",
       "      <td>23.3</td>\n",
       "      <td>30.301775</td>\n",
       "      <td>-7.001775</td>\n",
       "    </tr>\n",
       "    <tr>\n",
       "      <th>1</th>\n",
       "      <td>93.9</td>\n",
       "      <td>22.88</td>\n",
       "      <td>12.8</td>\n",
       "      <td>12.027361</td>\n",
       "      <td>0.772639</td>\n",
       "    </tr>\n",
       "    <tr>\n",
       "      <th>2</th>\n",
       "      <td>77.8</td>\n",
       "      <td>29.97</td>\n",
       "      <td>6.3</td>\n",
       "      <td>2.896873</td>\n",
       "      <td>3.403127</td>\n",
       "    </tr>\n",
       "    <tr>\n",
       "      <th>3</th>\n",
       "      <td>51.8</td>\n",
       "      <td>6.58</td>\n",
       "      <td>35.2</td>\n",
       "      <td>28.464566</td>\n",
       "      <td>6.735434</td>\n",
       "    </tr>\n",
       "    <tr>\n",
       "      <th>4</th>\n",
       "      <td>98.4</td>\n",
       "      <td>14.59</td>\n",
       "      <td>17.1</td>\n",
       "      <td>21.878644</td>\n",
       "      <td>-4.778644</td>\n",
       "    </tr>\n",
       "    <tr>\n",
       "      <th>...</th>\n",
       "      <td>...</td>\n",
       "      <td>...</td>\n",
       "      <td>...</td>\n",
       "      <td>...</td>\n",
       "      <td>...</td>\n",
       "    </tr>\n",
       "    <tr>\n",
       "      <th>97</th>\n",
       "      <td>88.4</td>\n",
       "      <td>14.65</td>\n",
       "      <td>17.7</td>\n",
       "      <td>21.233607</td>\n",
       "      <td>-3.533607</td>\n",
       "    </tr>\n",
       "    <tr>\n",
       "      <th>98</th>\n",
       "      <td>25.8</td>\n",
       "      <td>9.97</td>\n",
       "      <td>19.3</td>\n",
       "      <td>23.045448</td>\n",
       "      <td>-3.745448</td>\n",
       "    </tr>\n",
       "    <tr>\n",
       "      <th>99</th>\n",
       "      <td>94.9</td>\n",
       "      <td>21.45</td>\n",
       "      <td>15.4</td>\n",
       "      <td>13.739558</td>\n",
       "      <td>1.660442</td>\n",
       "    </tr>\n",
       "    <tr>\n",
       "      <th>100</th>\n",
       "      <td>95.4</td>\n",
       "      <td>15.03</td>\n",
       "      <td>18.4</td>\n",
       "      <td>21.196842</td>\n",
       "      <td>-2.796842</td>\n",
       "    </tr>\n",
       "    <tr>\n",
       "      <th>101</th>\n",
       "      <td>77.7</td>\n",
       "      <td>11.50</td>\n",
       "      <td>16.2</td>\n",
       "      <td>24.262529</td>\n",
       "      <td>-8.062529</td>\n",
       "    </tr>\n",
       "  </tbody>\n",
       "</table>\n",
       "<p>102 rows × 5 columns</p>\n",
       "</div>"
      ],
      "text/plain": [
       "     AGE&ISTAT_test  MEDV_test  y_test  y_test_predicted  Residual\n",
       "0             100.0       7.39    23.3         30.301775 -7.001775\n",
       "1              93.9      22.88    12.8         12.027361  0.772639\n",
       "2              77.8      29.97     6.3          2.896873  3.403127\n",
       "3              51.8       6.58    35.2         28.464566  6.735434\n",
       "4              98.4      14.59    17.1         21.878644 -4.778644\n",
       "..              ...        ...     ...               ...       ...\n",
       "97             88.4      14.65    17.7         21.233607 -3.533607\n",
       "98             25.8       9.97    19.3         23.045448 -3.745448\n",
       "99             94.9      21.45    15.4         13.739558  1.660442\n",
       "100            95.4      15.03    18.4         21.196842 -2.796842\n",
       "101            77.7      11.50    16.2         24.262529 -8.062529\n",
       "\n",
       "[102 rows x 5 columns]"
      ]
     },
     "execution_count": 11,
     "metadata": {},
     "output_type": "execute_result"
    }
   ],
   "source": [
    "y_test_pred = model.predict(X_test)\n",
    "dfTestValidation = pd.DataFrame(list(zip(X_test[: ,0], X_test[:,1],\n",
    "                                        y_test.flatten(),\n",
    "                                        y_test_pred.flatten())),\n",
    "                                        columns = ['AGE&ISTAT_test', 'MEDV_test', 'y_test', 'y_test_predicted'])\n",
    "dfTestValidation['Residual'] = dfTestValidation['y_test']- dfTestValidation['y_test_predicted']\n",
    "dfTestValidation\n"
   ]
  },
  {
   "cell_type": "code",
   "execution_count": 12,
   "metadata": {},
   "outputs": [
    {
     "data": {
      "image/png": "[encoded data removed]",
      "text/plain": [
       "<Figure size 640x480 with 4 Axes>"
      ]
     },
     "metadata": {},
     "output_type": "display_data"
    }
   ],
   "source": [
    "fig,axes = plt.subplots(2,2)\n",
    "sb.scatterplot(data=dfTestValidation,x='AGE&ISTAT_test',y='Residual',ax=axes[1,0])\n",
    "sb.lineplot(data=dfTestValidation,x='AGE&ISTAT_test',y=[0]*len(dfTestValidation),color='r',ax=axes[1,0])\n",
    "sb.scatterplot(data=dfTestValidation,x='MEDV_test',y='Residual',ax=axes[1,1])\n",
    "plt.show()"
   ]
  },
  {
   "cell_type": "code",
   "execution_count": 13,
   "metadata": {},
   "outputs": [
    {
     "data": {
      "image/png": "[encoded data removed]",
      "text/plain": [
       "<Figure size 640x480 with 1 Axes>"
      ]
     },
     "metadata": {},
     "output_type": "display_data"
    }
   ],
   "source": [
    "sb.histplot(data=dfTestValidation,x='y_test',color='skyblue',label='Actual',kde=True)\n",
    "sb.histplot(data=dfTestValidation,x='y_test_predicted',color='red',label='Forecast',kde=True)\n",
    "plt.show()"
   ]
  }
 ],
 "metadata": {
  "kernelspec": {
   "display_name": "Python 3",
   "language": "python",
   "name": "python3"
  },
  "language_info": {
   "codemirror_mode": {
    "name": "ipython",
    "version": 3
   },
   "file_extension": ".py",
   "mimetype": "text/x-python",
   "name": "python",
   "nbconvert_exporter": "python",
   "pygments_lexer": "ipython3",
   "version": "3.11.4"
  },
  "orig_nbformat": 4
 },
 "nbformat": 4,
 "nbformat_minor": 2
}
