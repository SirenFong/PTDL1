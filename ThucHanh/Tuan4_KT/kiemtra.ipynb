{
 "cells": [
  {
   "cell_type": "code",
   "execution_count": 1,
   "metadata": {},
   "outputs": [],
   "source": [
    "import pandas as pd\n",
    "df = pd.read_csv('sales_data_sample.csv', header = 0, delimiter = ',', encoding = 'utf-8')"
   ]
  },
  {
   "cell_type": "code",
   "execution_count": 3,
   "metadata": {},
   "outputs": [],
   "source": [
    "import matplotlib.pyplot as plt #import thu vien matplotlib\n",
    "import seaborn as sns #import seaborn\n",
    "import numpy as np"
   ]
  },
  {
   "cell_type": "code",
   "execution_count": 5,
   "metadata": {},
   "outputs": [
    {
     "data": {
      "text/html": [
       "<div>\n",
       "<style scoped>\n",
       "    .dataframe tbody tr th:only-of-type {\n",
       "        vertical-align: middle;\n",
       "    }\n",
       "\n",
       "    .dataframe tbody tr th {\n",
       "        vertical-align: top;\n",
       "    }\n",
       "\n",
       "    .dataframe thead th {\n",
       "        text-align: right;\n",
       "    }\n",
       "</style>\n",
       "<table border=\"1\" class=\"dataframe\">\n",
       "  <thead>\n",
       "    <tr style=\"text-align: right;\">\n",
       "      <th></th>\n",
       "      <th>ORDERNUMBER</th>\n",
       "      <th>QUANTITYORDERED</th>\n",
       "      <th>ORDERLINENUMBER</th>\n",
       "      <th>SALES</th>\n",
       "      <th>ORDERDATE</th>\n",
       "      <th>STATUS</th>\n",
       "      <th>COUNTRY</th>\n",
       "      <th>DEALSIZE</th>\n",
       "    </tr>\n",
       "  </thead>\n",
       "  <tbody>\n",
       "    <tr>\n",
       "      <th>0</th>\n",
       "      <td>10107</td>\n",
       "      <td>30</td>\n",
       "      <td>2</td>\n",
       "      <td>2871.00</td>\n",
       "      <td>2/24/2003 0:00</td>\n",
       "      <td>Shipped</td>\n",
       "      <td>USA</td>\n",
       "      <td>Small</td>\n",
       "    </tr>\n",
       "    <tr>\n",
       "      <th>1</th>\n",
       "      <td>10121</td>\n",
       "      <td>34</td>\n",
       "      <td>5</td>\n",
       "      <td>2765.90</td>\n",
       "      <td>5/7/2003 0:00</td>\n",
       "      <td>Shipped</td>\n",
       "      <td>France</td>\n",
       "      <td>Small</td>\n",
       "    </tr>\n",
       "    <tr>\n",
       "      <th>2</th>\n",
       "      <td>10134</td>\n",
       "      <td>41</td>\n",
       "      <td>2</td>\n",
       "      <td>3884.34</td>\n",
       "      <td>7/1/2003 0:00</td>\n",
       "      <td>Shipped</td>\n",
       "      <td>France</td>\n",
       "      <td>Medium</td>\n",
       "    </tr>\n",
       "    <tr>\n",
       "      <th>3</th>\n",
       "      <td>10145</td>\n",
       "      <td>45</td>\n",
       "      <td>6</td>\n",
       "      <td>3746.70</td>\n",
       "      <td>8/25/2003 0:00</td>\n",
       "      <td>Shipped</td>\n",
       "      <td>USA</td>\n",
       "      <td>Medium</td>\n",
       "    </tr>\n",
       "    <tr>\n",
       "      <th>4</th>\n",
       "      <td>10159</td>\n",
       "      <td>49</td>\n",
       "      <td>14</td>\n",
       "      <td>5205.27</td>\n",
       "      <td>10/10/2003 0:00</td>\n",
       "      <td>Shipped</td>\n",
       "      <td>USA</td>\n",
       "      <td>Medium</td>\n",
       "    </tr>\n",
       "  </tbody>\n",
       "</table>\n",
       "</div>"
      ],
      "text/plain": [
       "   ORDERNUMBER  QUANTITYORDERED  ORDERLINENUMBER    SALES        ORDERDATE  \\\n",
       "0        10107               30                2  2871.00   2/24/2003 0:00   \n",
       "1        10121               34                5  2765.90    5/7/2003 0:00   \n",
       "2        10134               41                2  3884.34    7/1/2003 0:00   \n",
       "3        10145               45                6  3746.70   8/25/2003 0:00   \n",
       "4        10159               49               14  5205.27  10/10/2003 0:00   \n",
       "\n",
       "    STATUS COUNTRY DEALSIZE  \n",
       "0  Shipped     USA    Small  \n",
       "1  Shipped  France    Small  \n",
       "2  Shipped  France   Medium  \n",
       "3  Shipped     USA   Medium  \n",
       "4  Shipped     USA   Medium  "
      ]
     },
     "execution_count": 5,
     "metadata": {},
     "output_type": "execute_result"
    }
   ],
   "source": [
    "df.head()"
   ]
  },
  {
   "cell_type": "code",
   "execution_count": 6,
   "metadata": {},
   "outputs": [
    {
     "name": "stdout",
     "output_type": "stream",
     "text": [
      "<class 'pandas.core.frame.DataFrame'>\n",
      "RangeIndex: 2823 entries, 0 to 2822\n",
      "Data columns (total 8 columns):\n",
      " #   Column           Non-Null Count  Dtype  \n",
      "---  ------           --------------  -----  \n",
      " 0   ORDERNUMBER      2823 non-null   int64  \n",
      " 1   QUANTITYORDERED  2823 non-null   int64  \n",
      " 2   ORDERLINENUMBER  2823 non-null   int64  \n",
      " 3   SALES            2823 non-null   float64\n",
      " 4   ORDERDATE        2823 non-null   object \n",
      " 5   STATUS           2823 non-null   object \n",
      " 6   COUNTRY          2823 non-null   object \n",
      " 7   DEALSIZE         2823 non-null   object \n",
      "dtypes: float64(1), int64(3), object(4)\n",
      "memory usage: 176.6+ KB\n"
     ]
    }
   ],
   "source": [
    "df.info()"
   ]
  },
  {
   "cell_type": "code",
   "execution_count": 7,
   "metadata": {},
   "outputs": [],
   "source": [
    "df['ORDERDATE'] = pd.to_datetime(df['ORDERDATE'])"
   ]
  },
  {
   "cell_type": "code",
   "execution_count": 8,
   "metadata": {},
   "outputs": [],
   "source": [
    "df.sort_values(by = ['ORDERDATE'], inplace = True)\n",
    "df.set_index('ORDERDATE', inplace = True) "
   ]
  },
  {
   "cell_type": "code",
   "execution_count": 9,
   "metadata": {},
   "outputs": [
    {
     "name": "stdout",
     "output_type": "stream",
     "text": [
      "ORDERNUMBER        0\n",
      "QUANTITYORDERED    0\n",
      "ORDERLINENUMBER    0\n",
      "SALES              0\n",
      "STATUS             0\n",
      "COUNTRY            0\n",
      "DEALSIZE           0\n",
      "dtype: int64\n"
     ]
    }
   ],
   "source": [
    "print(df.isnull().sum()) "
   ]
  },
  {
   "cell_type": "code",
   "execution_count": 12,
   "metadata": {},
   "outputs": [
    {
     "name": "stdout",
     "output_type": "stream",
     "text": [
      "Number of ORDERNUMBER unique values: 307\n",
      "Number of QUANTITYORDERED unique values: 58\n",
      "Number of ORDERLINENUMBER unique values: 18\n",
      "Number of SALES unique values: 2763\n",
      "Number of STATUS unique values: 6\n",
      "Number of COUNTRY unique values: 19\n",
      "Number of DEALSIZE unique values: 3\n"
     ]
    }
   ],
   "source": [
    "for c in df.columns:\n",
    "    print(f'Number of {c} unique values: {df[c].nunique()}')"
   ]
  },
  {
   "cell_type": "code",
   "execution_count": 13,
   "metadata": {},
   "outputs": [
    {
     "data": {
      "text/html": [
       "<div>\n",
       "<style scoped>\n",
       "    .dataframe tbody tr th:only-of-type {\n",
       "        vertical-align: middle;\n",
       "    }\n",
       "\n",
       "    .dataframe tbody tr th {\n",
       "        vertical-align: top;\n",
       "    }\n",
       "\n",
       "    .dataframe thead th {\n",
       "        text-align: right;\n",
       "    }\n",
       "</style>\n",
       "<table border=\"1\" class=\"dataframe\">\n",
       "  <thead>\n",
       "    <tr style=\"text-align: right;\">\n",
       "      <th></th>\n",
       "      <th>ORDERNUMBER</th>\n",
       "      <th>QUANTITYORDERED</th>\n",
       "      <th>ORDERLINENUMBER</th>\n",
       "      <th>SALES</th>\n",
       "    </tr>\n",
       "  </thead>\n",
       "  <tbody>\n",
       "    <tr>\n",
       "      <th>count</th>\n",
       "      <td>2823.000000</td>\n",
       "      <td>2823.000000</td>\n",
       "      <td>2823.000000</td>\n",
       "      <td>2823.000000</td>\n",
       "    </tr>\n",
       "    <tr>\n",
       "      <th>mean</th>\n",
       "      <td>10258.725115</td>\n",
       "      <td>35.092809</td>\n",
       "      <td>6.466171</td>\n",
       "      <td>3553.889072</td>\n",
       "    </tr>\n",
       "    <tr>\n",
       "      <th>std</th>\n",
       "      <td>92.085478</td>\n",
       "      <td>9.741443</td>\n",
       "      <td>4.225841</td>\n",
       "      <td>1841.865106</td>\n",
       "    </tr>\n",
       "    <tr>\n",
       "      <th>min</th>\n",
       "      <td>10100.000000</td>\n",
       "      <td>6.000000</td>\n",
       "      <td>1.000000</td>\n",
       "      <td>482.130000</td>\n",
       "    </tr>\n",
       "    <tr>\n",
       "      <th>25%</th>\n",
       "      <td>10180.000000</td>\n",
       "      <td>27.000000</td>\n",
       "      <td>3.000000</td>\n",
       "      <td>2203.430000</td>\n",
       "    </tr>\n",
       "    <tr>\n",
       "      <th>50%</th>\n",
       "      <td>10262.000000</td>\n",
       "      <td>35.000000</td>\n",
       "      <td>6.000000</td>\n",
       "      <td>3184.800000</td>\n",
       "    </tr>\n",
       "    <tr>\n",
       "      <th>75%</th>\n",
       "      <td>10333.500000</td>\n",
       "      <td>43.000000</td>\n",
       "      <td>9.000000</td>\n",
       "      <td>4508.000000</td>\n",
       "    </tr>\n",
       "    <tr>\n",
       "      <th>max</th>\n",
       "      <td>10425.000000</td>\n",
       "      <td>97.000000</td>\n",
       "      <td>18.000000</td>\n",
       "      <td>14082.800000</td>\n",
       "    </tr>\n",
       "  </tbody>\n",
       "</table>\n",
       "</div>"
      ],
      "text/plain": [
       "        ORDERNUMBER  QUANTITYORDERED  ORDERLINENUMBER         SALES\n",
       "count   2823.000000      2823.000000      2823.000000   2823.000000\n",
       "mean   10258.725115        35.092809         6.466171   3553.889072\n",
       "std       92.085478         9.741443         4.225841   1841.865106\n",
       "min    10100.000000         6.000000         1.000000    482.130000\n",
       "25%    10180.000000        27.000000         3.000000   2203.430000\n",
       "50%    10262.000000        35.000000         6.000000   3184.800000\n",
       "75%    10333.500000        43.000000         9.000000   4508.000000\n",
       "max    10425.000000        97.000000        18.000000  14082.800000"
      ]
     },
     "execution_count": 13,
     "metadata": {},
     "output_type": "execute_result"
    }
   ],
   "source": [
    "df.describe()"
   ]
  },
  {
   "cell_type": "code",
   "execution_count": 17,
   "metadata": {},
   "outputs": [],
   "source": [
    "def z_score_standardization(series):\n",
    "    return (series - series.mean()) / series.std()"
   ]
  },
  {
   "cell_type": "code",
   "execution_count": 19,
   "metadata": {},
   "outputs": [
    {
     "name": "stdout",
     "output_type": "stream",
     "text": [
      "            ORDERNUMBER  QUANTITYORDERED  ORDERLINENUMBER     SALES  \\\n",
      "ORDERDATE                                                             \n",
      "2003-01-06    -1.723672        -0.522798        -0.820232  0.867116   \n",
      "2003-01-06    -1.723672         1.530286        -1.056871 -0.088980   \n",
      "2003-01-06    -1.723672        -1.344032        -0.583593 -0.896194   \n",
      "2003-01-06    -1.723672         1.427632        -1.293511 -1.012484   \n",
      "2003-01-09    -1.712812         1.017015        -0.820232 -1.167235   \n",
      "...                 ...              ...              ...       ...   \n",
      "2005-05-31     1.805658        -1.754649        -1.056871 -0.900147   \n",
      "2005-05-31     1.805658        -0.214836        -0.583593  0.618238   \n",
      "2005-05-31     1.805658         0.298435         1.309521  1.271022   \n",
      "2005-05-31     1.794799         0.914361        -1.056871 -0.462493   \n",
      "2005-05-31     1.805658         0.298435         0.126325  0.121448   \n",
      "\n",
      "                STATUS  COUNTRY DEALSIZE  \n",
      "ORDERDATE                                 \n",
      "2003-01-06     Shipped      USA   Medium  \n",
      "2003-01-06     Shipped      USA   Medium  \n",
      "2003-01-06     Shipped      USA    Small  \n",
      "2003-01-06     Shipped      USA    Small  \n",
      "2003-01-09     Shipped  Germany    Small  \n",
      "...                ...      ...      ...  \n",
      "2005-05-31  In Process   France    Small  \n",
      "2005-05-31  In Process   France   Medium  \n",
      "2005-05-31  In Process   France   Medium  \n",
      "2005-05-31  In Process    Spain    Small  \n",
      "2005-05-31  In Process   France   Medium  \n",
      "\n",
      "[2823 rows x 7 columns]\n"
     ]
    }
   ],
   "source": [
    "print(df)"
   ]
  },
  {
   "cell_type": "code",
   "execution_count": 27,
   "metadata": {},
   "outputs": [
    {
     "data": {
      "text/plain": [
       "ORDERNUMBER        float64\n",
       "QUANTITYORDERED    float64\n",
       "ORDERLINENUMBER    float64\n",
       "SALES              float64\n",
       "STATUS              object\n",
       "COUNTRY             object\n",
       "DEALSIZE            object\n",
       "dtype: object"
      ]
     },
     "execution_count": 27,
     "metadata": {},
     "output_type": "execute_result"
    }
   ],
   "source": [
    "df.dtypes"
   ]
  }
 ],
 "metadata": {
  "kernelspec": {
   "display_name": "base",
   "language": "python",
   "name": "python3"
  },
  "language_info": {
   "codemirror_mode": {
    "name": "ipython",
    "version": 3
   },
   "file_extension": ".py",
   "mimetype": "text/x-python",
   "name": "python",
   "nbconvert_exporter": "python",
   "pygments_lexer": "ipython3",
   "version": "3.11.4"
  },
  "orig_nbformat": 4
 },
 "nbformat": 4,
 "nbformat_minor": 2
}
