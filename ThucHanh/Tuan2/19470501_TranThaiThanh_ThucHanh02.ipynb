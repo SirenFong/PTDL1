{
 "cells": [
  {
   "cell_type": "code",
   "execution_count": 9,
   "metadata": {},
   "outputs": [],
   "source": [
    "import pandas as pd"
   ]
  },
  {
   "cell_type": "code",
   "execution_count": 10,
   "metadata": {},
   "outputs": [],
   "source": [
    "#Em có tinh chỉnh cấu hình SQL khác một chút so với website thầy đưa\n",
    "#Do máy em bị lỗi code theo web thầy gửi nên em đã thay đổi lại theo cách này\n",
    "import pyodbc\n",
    "conn = pyodbc.connect('DRIVER={SQL Server};SERVER=localhost;PORT=1433;DATABASE=dbPythonTestSQL;UID=sa;PWD=123456')"
   ]
  },
  {
   "cell_type": "code",
   "execution_count": 14,
   "metadata": {},
   "outputs": [],
   "source": [
    "#Create cursor\n",
    "cursor = conn.cursor()"
   ]
  },
  {
   "cell_type": "code",
   "execution_count": null,
   "metadata": {},
   "outputs": [],
   "source": [
    "#Cau A\n",
    "cursor.execute('SELECT * FROM tblUsers where (GETDATE()-year(ubirthdate)<35)')\n",
    "cursor.execute(sql)\n",
    "myresult = cursor.fetchall()\n",
    "\n",
    "print(\"Ket qua:\")\n",
    "for x in myresult:\n",
    "  print(x)"
   ]
  },
  {
   "cell_type": "code",
   "execution_count": null,
   "metadata": {},
   "outputs": [
    {
     "name": "stdout",
     "output_type": "stream",
     "text": [
      "Ket Qua:\n",
      "('u0001', 'Henry', '2001-07-31')\n",
      "('u0002', 'Peter', '1990-08-25')\n",
      "('u0003', 'Owen', '1995-02-28')\n",
      "('u0004', 'Jackson', '2002-04-25')\n",
      "('u0005', 'Ellite', '2000-05-20')\n"
     ]
    }
   ],
   "source": [
    "#Cau B\n",
    "sql = \"SELECT uid, uname, ubirthdate FROM tblUsers\"\n",
    "cursor.execute(sql)\n",
    "myresult = cursor.fetchall()\n",
    "\n",
    "print(\"Ket Qua:\")\n",
    "for x in myresult:\n",
    "  print(x)"
   ]
  },
  {
   "cell_type": "code",
   "execution_count": null,
   "metadata": {},
   "outputs": [],
   "source": [
    "#Cau C\n",
    "cursor.execute(\"INSERT INTO tblUsers(uid, uname, ubirthdate, usalary, urank) values ('u0006', 'David', '07-22-2000','450','5')\")\n",
    "conn.commit()"
   ]
  },
  {
   "cell_type": "code",
   "execution_count": null,
   "metadata": {},
   "outputs": [
    {
     "name": "stdout",
     "output_type": "stream",
     "text": [
      "Ket qua:\n",
      "('u0001', 'Henry', '2001-07-31', 125.5, 1)\n",
      "('u0002', 'Peter', '1990-08-25', 650.0, 1)\n",
      "('u0003', 'Owen', '1995-02-28', 275.5, 2)\n",
      "('u0004', 'Jackson', '2002-04-25', 400.0, 4)\n",
      "('u0005', 'Ellite', '2000-05-20', 600.0, 3)\n",
      "('u0006', 'David', '2000-07-22', 450.0, 5)\n"
     ]
    }
   ],
   "source": [
    "sql = \"SELECT uid, uname, ubirthdate, usalary, urank FROM tblUsers\"\n",
    "cursor.execute(sql)\n",
    "myresult = cursor.fetchall()\n",
    "\n",
    "print(\"Ket qua:\")\n",
    "for x in myresult:\n",
    "  print(x)"
   ]
  },
  {
   "cell_type": "code",
   "execution_count": null,
   "metadata": {},
   "outputs": [],
   "source": [
    "#Cau d\n",
    "cursor.execute(\"UPDATE tblUsers SET usalary='650' WHERE uid='u0002'\").rowcount\n",
    "conn.commit()"
   ]
  },
  {
   "cell_type": "code",
   "execution_count": null,
   "metadata": {},
   "outputs": [
    {
     "name": "stdout",
     "output_type": "stream",
     "text": [
      "Ket qua:\n",
      "('u0001', 'Henry', '2001-07-31', 125.5, 1)\n",
      "('u0002', 'Peter', '1990-08-25', 650.0, 1)\n",
      "('u0003', 'Owen', '1995-02-28', 275.5, 2)\n",
      "('u0004', 'Jackson', '2002-04-25', 400.0, 4)\n",
      "('u0005', 'Ellite', '2000-05-20', 600.0, 3)\n",
      "('u0006', 'David', '2000-07-22', 450.0, 5)\n"
     ]
    }
   ],
   "source": [
    "sql = \"SELECT uid, uname, ubirthdate, usalary, urank FROM tblUsers\"\n",
    "cursor.execute(sql)\n",
    "myresult = cursor.fetchall()\n",
    "\n",
    "print(\"Ket qua:\")\n",
    "for x in myresult:\n",
    "  print(x)"
   ]
  },
  {
   "cell_type": "code",
   "execution_count": null,
   "metadata": {},
   "outputs": [],
   "source": [
    "#Cau e\n",
    "delete = cursor.execute(\"DELETE FROM tblUsers WHERE uid='u0006'\").rowcount\n",
    "conn.commit()"
   ]
  },
  {
   "cell_type": "code",
   "execution_count": null,
   "metadata": {},
   "outputs": [
    {
     "name": "stdout",
     "output_type": "stream",
     "text": [
      "Ket qua:\n",
      "('u0001', 'Henry', '2001-07-31', 125.5, 1)\n",
      "('u0002', 'Peter', '1990-08-25', 650.0, 1)\n",
      "('u0003', 'Owen', '1995-02-28', 275.5, 2)\n",
      "('u0004', 'Jackson', '2002-04-25', 400.0, 4)\n",
      "('u0005', 'Ellite', '2000-05-20', 600.0, 3)\n"
     ]
    }
   ],
   "source": [
    "sql = \"SELECT uid, uname, ubirthdate, usalary, urank FROM tblUsers\"\n",
    "cursor.execute(sql)\n",
    "myresult = cursor.fetchall()\n",
    "\n",
    "print(\"Ket qua:\")\n",
    "for x in myresult:\n",
    "  print(x)"
   ]
  }
 ],
 "metadata": {
  "kernelspec": {
   "display_name": "Python 3",
   "language": "python",
   "name": "python3"
  },
  "language_info": {
   "codemirror_mode": {
    "name": "ipython",
    "version": 3
   },
   "file_extension": ".py",
   "mimetype": "text/x-python",
   "name": "python",
   "nbconvert_exporter": "python",
   "pygments_lexer": "ipython3",
   "version": "3.11.4"
  },
  "orig_nbformat": 2
 },
 "nbformat": 4,
 "nbformat_minor": 2
}
